{
 "cells": [
  {
   "cell_type": "markdown",
   "id": "40ec346c",
   "metadata": {},
   "source": [
    "#### 포멧 함수"
   ]
  },
  {
   "cell_type": "code",
   "execution_count": 1,
   "id": "ba6e5210",
   "metadata": {},
   "outputs": [
    {
     "name": "stdout",
     "output_type": "stream",
     "text": [
      "2500원\n"
     ]
    }
   ],
   "source": [
    "price = 2500\n",
    "print(\"{}원\".format(price))"
   ]
  },
  {
   "cell_type": "code",
   "execution_count": 2,
   "id": "3b4f4e5d",
   "metadata": {},
   "outputs": [
    {
     "name": "stdout",
     "output_type": "stream",
     "text": [
      "2x3=6\n"
     ]
    }
   ],
   "source": [
    "print(\"{}x{}={}\".format(2,3,6))"
   ]
  },
  {
   "cell_type": "code",
   "execution_count": 3,
   "id": "e6fe4e72",
   "metadata": {},
   "outputs": [
    {
     "name": "stdout",
     "output_type": "stream",
     "text": [
      "2x3=6\n"
     ]
    }
   ],
   "source": [
    "print(\"{1}x{2}={0}\".format(6,2,3,))"
   ]
  },
  {
   "cell_type": "markdown",
   "id": "61e89e36",
   "metadata": {},
   "source": [
    "중괄호의 개수와 포멧 함수의 인자개수를 맞춰야한다."
   ]
  },
  {
   "cell_type": "code",
   "execution_count": 4,
   "id": "5bec094a",
   "metadata": {},
   "outputs": [
    {
     "name": "stdout",
     "output_type": "stream",
     "text": [
      "I ate 10 ice cream, so I was sick for three days.\n"
     ]
    }
   ],
   "source": [
    "print(\"I ate {number} ice cream, so I was sick for {day} days.\"\n",
    "      .format(number=10, day = \"three\"))"
   ]
  },
  {
   "cell_type": "code",
   "execution_count": 5,
   "id": "6705f62a",
   "metadata": {},
   "outputs": [
    {
     "name": "stdout",
     "output_type": "stream",
     "text": [
      "age is 23 and name is lyj\n"
     ]
    }
   ],
   "source": [
    "print(\"age is {0} and name is {name}\".format(23,name=\"lyj\"))"
   ]
  },
  {
   "cell_type": "code",
   "execution_count": 6,
   "id": "b2f9f381",
   "metadata": {},
   "outputs": [],
   "source": [
    "# <: 왼쪽 정렬\n",
    "name = \"Lee yongjae\""
   ]
  },
  {
   "cell_type": "code",
   "execution_count": 7,
   "id": "29be0c55",
   "metadata": {},
   "outputs": [
    {
     "name": "stdout",
     "output_type": "stream",
     "text": [
      "Lee yongjae         \n",
      "         Lee yongjae\n",
      "    Lee yongjae     \n",
      "====Lee yongjae=====\n"
     ]
    }
   ],
   "source": [
    "print(\"{0:<20}\".format(name))\n",
    "print(\"{0:>20}\".format(name))\n",
    "print(\"{0:^20}\".format(name))\n",
    "print(\"{0:=^20}\".format(name))"
   ]
  },
  {
   "cell_type": "code",
   "execution_count": 8,
   "id": "2ef294fd",
   "metadata": {},
   "outputs": [
    {
     "name": "stdout",
     "output_type": "stream",
     "text": [
      "   3.14159\n"
     ]
    }
   ],
   "source": [
    "pi = 3.141592\n",
    "print(f'{pi:10.5f}')"
   ]
  },
  {
   "cell_type": "markdown",
   "id": "52bb750b",
   "metadata": {},
   "source": [
    "### 표준 입출력"
   ]
  },
  {
   "cell_type": "markdown",
   "id": "5a0a9d6f",
   "metadata": {},
   "source": [
    "#### 표준 출력 함수"
   ]
  },
  {
   "cell_type": "code",
   "execution_count": 9,
   "id": "759e9f57",
   "metadata": {},
   "outputs": [
    {
     "name": "stdout",
     "output_type": "stream",
     "text": [
      "i love\n",
      "python\n"
     ]
    }
   ],
   "source": [
    "print(\"i\",\"love\")\n",
    "print(\"python\")"
   ]
  },
  {
   "cell_type": "code",
   "execution_count": 10,
   "id": "5a9abc26",
   "metadata": {},
   "outputs": [
    {
     "name": "stdout",
     "output_type": "stream",
     "text": [
      "i love python\n"
     ]
    }
   ],
   "source": [
    "print(\"i\",\"love\",end=\" \")\n",
    "print(\"python\")"
   ]
  },
  {
   "cell_type": "code",
   "execution_count": 11,
   "id": "b982b6af",
   "metadata": {},
   "outputs": [
    {
     "name": "stdout",
     "output_type": "stream",
     "text": [
      "i/love/python !!!\n"
     ]
    }
   ],
   "source": [
    "print(\"i\",\"love\",\"python\",sep=\"/\",end=\" \")\n",
    "print(\"!!!\")"
   ]
  },
  {
   "cell_type": "code",
   "execution_count": 12,
   "id": "2e2dff61",
   "metadata": {},
   "outputs": [
    {
     "name": "stdout",
     "output_type": "stream",
     "text": [
      "i love python\n"
     ]
    }
   ],
   "source": [
    "print(\"i\",\"love\",\"python\")##공백을 입력 안했지만 공백이 생긴다"
   ]
  },
  {
   "cell_type": "markdown",
   "id": "05643ed6",
   "metadata": {},
   "source": [
    "#### 표준 입력 함수"
   ]
  },
  {
   "cell_type": "code",
   "execution_count": 13,
   "id": "4a372d5c",
   "metadata": {},
   "outputs": [
    {
     "name": "stdout",
     "output_type": "stream",
     "text": [
      "이름: 이용재\n",
      "Wellcome!! 이용재\n"
     ]
    }
   ],
   "source": [
    "name = input(\"이름: \")\n",
    "print(\"Wellcome!!\", name)"
   ]
  },
  {
   "cell_type": "code",
   "execution_count": 14,
   "id": "884deeef",
   "metadata": {},
   "outputs": [
    {
     "name": "stdout",
     "output_type": "stream",
     "text": [
      "how old are you? 23\n",
      "your age is 23\n"
     ]
    }
   ],
   "source": [
    "age = int(input(\"how old are you? \"))\n",
    "#인풋함수는 디폴트 자료형이 문자열 따라서 형변환 필요\n",
    "print(f'your age is {age}')#포멧함수 이용"
   ]
  },
  {
   "cell_type": "code",
   "execution_count": 15,
   "id": "b63422b9",
   "metadata": {},
   "outputs": [
    {
     "name": "stdout",
     "output_type": "stream",
     "text": [
      "입력한 두 숫자를 더하는 프로그램 입니다.\n",
      "숫자1을 입력 하시오: 1\n",
      "숫자2를 입력하시오: 2\n",
      "두 수의 합은 3입니다.\n"
     ]
    }
   ],
   "source": [
    "print(\"입력한 두 숫자를 더하는 프로그램 입니다.\")\n",
    "n1 = int(input(\"숫자1을 입력 하시오: \"))\n",
    "n2 = int(input(\"숫자2를 입력하시오: \"))\n",
    "print(f\"두 수의 합은 {n1+n2}입니다.\")"
   ]
  },
  {
   "cell_type": "markdown",
   "id": "c3798f94",
   "metadata": {},
   "source": [
    "### 예제"
   ]
  },
  {
   "cell_type": "code",
   "execution_count": 16,
   "id": "f9f3947a",
   "metadata": {},
   "outputs": [
    {
     "name": "stdout",
     "output_type": "stream",
     "text": [
      "만원권 개수: 3, 나머지: 4200\n"
     ]
    }
   ],
   "source": [
    "saveMoney = 34200\n",
    "king_sejong = saveMoney//10000\n",
    "Q = saveMoney%10000\n",
    "\n",
    "print(f'만원권 개수: {king_sejong}, 나머지: {Q}')"
   ]
  },
  {
   "cell_type": "code",
   "execution_count": 17,
   "id": "3357a784",
   "metadata": {},
   "outputs": [
    {
     "name": "stdout",
     "output_type": "stream",
     "text": [
      "밑변의 길이와 높이가 주어지면 삼각형의 넓이를 구한다.\n",
      "밑변의 길이: 2\n",
      "높이: 4\n",
      "넓이는 4.0\n"
     ]
    }
   ],
   "source": [
    "print(\"밑변의 길이와 높이가 주어지면 삼각형의 넓이를 구한다.\")\n",
    "len = int(input('밑변의 길이: '))\n",
    "hight = int(input('높이: '))\n",
    "s=len*hight/2\n",
    "print(f'넓이는 {s}')"
   ]
  },
  {
   "cell_type": "code",
   "execution_count": 18,
   "id": "98261c48",
   "metadata": {},
   "outputs": [
    {
     "name": "stdout",
     "output_type": "stream",
     "text": [
      "자동판매기 프로그램입니다.\n",
      "물건의 가격: 3700\n",
      "투입금액: 5000\n",
      "거스름돈은 500원2개, 100원 3개\n"
     ]
    }
   ],
   "source": [
    "print('자동판매기 프로그램입니다.')\n",
    "price = int(input('물건의 가격: '))\n",
    "money = int(input('투입금액: '))\n",
    "Q = money-price\n",
    "coin_500 = Q//500\n",
    "coin_100 = (Q-500*coin_500)//100\n",
    "print(f\"거스름돈은 500원{coin_500}개, 100원 {coin_100}개\")"
   ]
  },
  {
   "cell_type": "code",
   "execution_count": 19,
   "id": "269ea74b",
   "metadata": {},
   "outputs": [
    {
     "name": "stdout",
     "output_type": "stream",
     "text": [
      "성적처리 프로그램입니다.\n",
      "국어 성적: 98\n",
      "수학 성적: 96\n",
      "영어 성적: 80\n",
      "평균: 91.33\n"
     ]
    }
   ],
   "source": [
    "print('성적처리 프로그램입니다.')\n",
    "lan = int(input('국어 성적: '))\n",
    "math = int(input('수학 성적: '))\n",
    "eng = int(input('영어 성적: '))\n",
    "avg = (lan+math+eng)/3\n",
    "print('평균: %.2f'%avg)"
   ]
  },
  {
   "cell_type": "code",
   "execution_count": 22,
   "id": "d58212a1",
   "metadata": {},
   "outputs": [
    {
     "name": "stdout",
     "output_type": "stream",
     "text": [
      "BMI 지수를 구하는 프로그램\n",
      "키: 174\n",
      "몸무게: 74\n",
      "BMI:  24.44\n"
     ]
    }
   ],
   "source": [
    "print('BMI 지수를 구하는 프로그램')\n",
    "height = int(input('키: '))\n",
    "weight = int(input('몸무게: '))\n",
    "\n",
    "print(\"BMI: \",round(weight/((height/100)**2),2))"
   ]
  },
  {
   "cell_type": "code",
   "execution_count": 23,
   "id": "f3ad2d12",
   "metadata": {},
   "outputs": [
    {
     "name": "stdout",
     "output_type": "stream",
     "text": [
      "주민등록 번호로 년생과 성별 알기\n",
      "주민등록번호(xxxxxx-xxxxxxx): 000804-3xxxxxx\n",
      "00 년생\n",
      "남\n"
     ]
    }
   ],
   "source": [
    "print('주민등록 번호로 년생과 성별 알기')\n",
    "id = input('주민등록번호(xxxxxx-xxxxxxx): ')\n",
    "year = id[0:2]\n",
    "print(year,'년생')\n",
    "\n",
    "s = int(id[7])\n",
    "if s == 1:\n",
    "    print('남')\n",
    "elif s == 3:\n",
    "    print('남')\n",
    "elif s == 2:\n",
    "    print('여')\n",
    "elif s == 4:\n",
    "    print('여')\n"
   ]
  }
 ],
 "metadata": {
  "kernelspec": {
   "display_name": "Python 3 (ipykernel)",
   "language": "python",
   "name": "python3"
  },
  "language_info": {
   "codemirror_mode": {
    "name": "ipython",
    "version": 3
   },
   "file_extension": ".py",
   "mimetype": "text/x-python",
   "name": "python",
   "nbconvert_exporter": "python",
   "pygments_lexer": "ipython3",
   "version": "3.9.12"
  }
 },
 "nbformat": 4,
 "nbformat_minor": 5
}
