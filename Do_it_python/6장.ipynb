{
 "cells": [
  {
   "attachments": {},
   "cell_type": "markdown",
   "metadata": {},
   "source": [
    "### 6장 파이썬 프로그래밍 시작"
   ]
  },
  {
   "attachments": {},
   "cell_type": "markdown",
   "metadata": {},
   "source": [
    "#### 6-1 구구단 함수"
   ]
  },
  {
   "cell_type": "code",
   "execution_count": 2,
   "metadata": {},
   "outputs": [
    {
     "name": "stdout",
     "output_type": "stream",
     "text": [
      "[2, 4, 6, 8, 10, 12, 14, 16, 18]\n"
     ]
    }
   ],
   "source": [
    "# 구구단 함수 v.1\n",
    "\n",
    "def GuGu(n):\n",
    "    result = [] #지역변수 결과를 저장할 리스트 생성\n",
    "    result.append(n*1)\n",
    "    result.append(n*2)\n",
    "    result.append(n*3) \n",
    "    result.append(n*4) \n",
    "    result.append(n*5) \n",
    "    result.append(n*6) \n",
    "    result.append(n*7) \n",
    "    result.append(n*8)\n",
    "    result.append(n*9) \n",
    "    return result\n",
    "print(GuGu(2))"
   ]
  },
  {
   "cell_type": "code",
   "execution_count": 4,
   "metadata": {},
   "outputs": [
    {
     "name": "stdout",
     "output_type": "stream",
     "text": [
      "[2, 4, 6, 8, 10, 12, 14, 16, 18]\n"
     ]
    }
   ],
   "source": [
    "#구구단 함수 v.2\n",
    "\n",
    "def GuGu(n):\n",
    "    result = [] #지역변수 결과를 저장할 리스트 생성\n",
    "    i = 1\n",
    "    while i < 10:\n",
    "        result.append(n * i)\n",
    "        i = i + 1 \n",
    "    return result\n",
    "print(GuGu(2))"
   ]
  },
  {
   "attachments": {},
   "cell_type": "markdown",
   "metadata": {},
   "source": [
    "#### 6-2 3과 5의 배수 합하기."
   ]
  },
  {
   "cell_type": "code",
   "execution_count": 5,
   "metadata": {},
   "outputs": [
    {
     "name": "stdout",
     "output_type": "stream",
     "text": [
      "233168\n"
     ]
    }
   ],
   "source": [
    "result = 0\n",
    "for n in range(1, 1000):\n",
    "    if n%3 == 0 or n%5 ==0:\n",
    "        result += n\n",
    "print(result)"
   ]
  },
  {
   "attachments": {},
   "cell_type": "markdown",
   "metadata": {},
   "source": [
    "#### 6-3 게시판 페이징하기"
   ]
  },
  {
   "cell_type": "code",
   "execution_count": null,
   "metadata": {},
   "outputs": [],
   "source": [
    "def getTotalPage(m, n):\n",
    "    if m % n == 0: \n",
    "        return m // n \n",
    "    else:\n",
    "        return m // n + 1\n",
    "        \n",
    "print(getTotalPage(5, 10)) \n",
    "print(getTotalPage(15, 10)) \n",
    "print(getTotalPage(25, 10)) \n",
    "print(getTotalPage(30, 10))"
   ]
  },
  {
   "attachments": {},
   "cell_type": "markdown",
   "metadata": {},
   "source": [
    "#### 6-4 간단한 메모장 만들기"
   ]
  },
  {
   "cell_type": "code",
   "execution_count": null,
   "metadata": {},
   "outputs": [],
   "source": [
    "# C:/doit/memo.py\n",
    "import sys\n",
    "\n",
    "option = sys.argv[1] #프로그램을 실행할 때 입력된 값을 일거 들일 수 있는 파이썬 라이브러리\n",
    "\n",
    "if option == '-a':\n",
    "    memo = sys.argv[2]\n",
    "    f = open('memo.txt', 'a')\n",
    "    f.write(memo)\n",
    "    f.close()\n",
    "elif option == '-v':\n",
    "    f = open('memo.txt')\n",
    "    memo = f.read()\n",
    "    f.close()\n",
    "    print(memo)"
   ]
  },
  {
   "attachments": {},
   "cell_type": "markdown",
   "metadata": {},
   "source": [
    "#### 6-5 탭을 4개의 공백으로 바꾸기"
   ]
  },
  {
   "cell_type": "code",
   "execution_count": null,
   "metadata": {},
   "outputs": [],
   "source": [
    "import sys\n",
    "\n",
    "src = sys.argv[1]\n",
    "dst = sys.argv[2]\n",
    "\n",
    "f = open(src)\n",
    "tab_content = f.read()\n",
    "f.close()\n",
    "space_content = tab_content.replace('\\t',' '*4)\n",
    "\n",
    "f = open(dst,'w')\n",
    "f.write(space_content)\n",
    "f.close()"
   ]
  },
  {
   "attachments": {},
   "cell_type": "markdown",
   "metadata": {},
   "source": [
    "#### 6-6 하위 디렉터리 검색하기"
   ]
  },
  {
   "cell_type": "code",
   "execution_count": null,
   "metadata": {},
   "outputs": [],
   "source": [
    "# C:/doit/sub_dir_search.py \n",
    "import os\n",
    "\n",
    "def search(dirname):\n",
    "    try:\n",
    "        filenames = os.listdir(dirname) #폴더내의 파일들의 리스트\n",
    "        for filename in filenames:\n",
    "            full_filename = os.path.join(dirname, filename) #두개를 파일 경로로 이어 붙여준다.\n",
    "            if os.path.isdir(full_filename):\n",
    "                search(full_filename)\n",
    "            else:\n",
    "                ext = os. path. splitext (full_filename) [-1] #파일 이름을 확장자를 기준으로 두 부분으로 나눔\n",
    "                if ext == '.py':\n",
    "                    print(full_filename)\n",
    "    except PermissionError:\n",
    "        pass\n",
    "\n",
    "\n",
    "search(\"c:/\")"
   ]
  },
  {
   "cell_type": "code",
   "execution_count": null,
   "metadata": {},
   "outputs": [],
   "source": [
    "import os\n",
    "\n",
    "for (path, dir, files) in os.walk(\"C:/\"):\n",
    "    for filename in files:\n",
    "        ext = os.path.splitext(filename)[-1]\n",
    "        if ext == '.py':\n",
    "            print(\"%s/%s\" % (path, filename))"
   ]
  },
  {
   "cell_type": "markdown",
   "metadata": {},
   "source": []
  }
 ],
 "metadata": {
  "kernelspec": {
   "display_name": "Python 3",
   "language": "python",
   "name": "python3"
  },
  "language_info": {
   "codemirror_mode": {
    "name": "ipython",
    "version": 3
   },
   "file_extension": ".py",
   "mimetype": "text/x-python",
   "name": "python",
   "nbconvert_exporter": "python",
   "pygments_lexer": "ipython3",
   "version": "3.9.7"
  },
  "orig_nbformat": 4,
  "vscode": {
   "interpreter": {
    "hash": "c347c8f9a7ef94e4c9e03b4513be7835ed18f45b99a2a817fb579f408b867b16"
   }
  }
 },
 "nbformat": 4,
 "nbformat_minor": 2
}
