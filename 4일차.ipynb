{
 "cells": [
  {
   "cell_type": "markdown",
   "id": "4c1daa98",
   "metadata": {},
   "source": [
    "### List"
   ]
  },
  {
   "cell_type": "code",
   "execution_count": 1,
   "id": "660a8b4a",
   "metadata": {},
   "outputs": [],
   "source": [
    "a=list()"
   ]
  },
  {
   "cell_type": "code",
   "execution_count": 2,
   "id": "6a8c3834",
   "metadata": {},
   "outputs": [
    {
     "data": {
      "text/plain": [
       "list"
      ]
     },
     "execution_count": 2,
     "metadata": {},
     "output_type": "execute_result"
    }
   ],
   "source": [
    "type(a)"
   ]
  },
  {
   "cell_type": "code",
   "execution_count": 3,
   "id": "56b44533",
   "metadata": {},
   "outputs": [],
   "source": [
    "a=[]"
   ]
  },
  {
   "cell_type": "code",
   "execution_count": 4,
   "id": "046a2703",
   "metadata": {},
   "outputs": [
    {
     "data": {
      "text/plain": [
       "list"
      ]
     },
     "execution_count": 4,
     "metadata": {},
     "output_type": "execute_result"
    }
   ],
   "source": [
    "type(a)"
   ]
  },
  {
   "cell_type": "code",
   "execution_count": 5,
   "id": "e4184624",
   "metadata": {},
   "outputs": [
    {
     "data": {
      "text/plain": [
       "[1]"
      ]
     },
     "execution_count": 5,
     "metadata": {},
     "output_type": "execute_result"
    }
   ],
   "source": [
    "a.append(1)\n",
    "a"
   ]
  },
  {
   "cell_type": "code",
   "execution_count": 6,
   "id": "cf4e0d88",
   "metadata": {},
   "outputs": [],
   "source": [
    "a.insert(0,2)"
   ]
  },
  {
   "cell_type": "code",
   "execution_count": 7,
   "id": "29a4d352",
   "metadata": {},
   "outputs": [
    {
     "data": {
      "text/plain": [
       "[2, 1]"
      ]
     },
     "execution_count": 7,
     "metadata": {},
     "output_type": "execute_result"
    }
   ],
   "source": [
    "a"
   ]
  },
  {
   "cell_type": "code",
   "execution_count": 8,
   "id": "eeae6a3f",
   "metadata": {},
   "outputs": [],
   "source": [
    "a.insert(1,3)"
   ]
  },
  {
   "cell_type": "code",
   "execution_count": 9,
   "id": "da44e820",
   "metadata": {},
   "outputs": [
    {
     "data": {
      "text/plain": [
       "[2, 3, 1]"
      ]
     },
     "execution_count": 9,
     "metadata": {},
     "output_type": "execute_result"
    }
   ],
   "source": [
    "a"
   ]
  },
  {
   "cell_type": "code",
   "execution_count": 10,
   "id": "d6f9152f",
   "metadata": {},
   "outputs": [],
   "source": [
    "num = list(range(1,10,2))#range(start,end,step)"
   ]
  },
  {
   "cell_type": "code",
   "execution_count": 11,
   "id": "6e0462bc",
   "metadata": {},
   "outputs": [
    {
     "data": {
      "text/plain": [
       "[1, 3, 5, 7, 9]"
      ]
     },
     "execution_count": 11,
     "metadata": {},
     "output_type": "execute_result"
    }
   ],
   "source": [
    "num"
   ]
  },
  {
   "cell_type": "code",
   "execution_count": 12,
   "id": "a7c96528",
   "metadata": {},
   "outputs": [
    {
     "data": {
      "text/plain": [
       "[5, 7, 9]"
      ]
     },
     "execution_count": 12,
     "metadata": {},
     "output_type": "execute_result"
    }
   ],
   "source": [
    "num[2:5]"
   ]
  },
  {
   "cell_type": "code",
   "execution_count": 13,
   "id": "276f7765",
   "metadata": {},
   "outputs": [
    {
     "name": "stdout",
     "output_type": "stream",
     "text": [
      "['무궁화', '장미', 30, '개나리']\n",
      "['무궁화', '장미', '진달래', '개나리']\n"
     ]
    }
   ],
   "source": [
    "#리스트 항목 변경하기\n",
    "flowers =['무궁화','장미',30,'개나리']\n",
    "\n",
    "print(flowers)\n",
    "\n",
    "#요소 변경하기\n",
    "flowers[2] = '진달래'\n",
    "print(flowers)"
   ]
  },
  {
   "cell_type": "code",
   "execution_count": 14,
   "id": "b8e174d3",
   "metadata": {},
   "outputs": [
    {
     "name": "stdout",
     "output_type": "stream",
     "text": [
      "a b c d e f g "
     ]
    }
   ],
   "source": [
    "alpa = ['a','b','c','d','e','f','g',]\n",
    "for a in alpa:\n",
    "    print(a,end = \" \")"
   ]
  },
  {
   "cell_type": "code",
   "execution_count": 15,
   "id": "31c085b0",
   "metadata": {},
   "outputs": [
    {
     "name": "stdout",
     "output_type": "stream",
     "text": [
      "a b c d e f g "
     ]
    }
   ],
   "source": [
    "i = 0\n",
    "while i < len(alpa):\n",
    "    print(alpa[i], end=\" \")\n",
    "    i += 1"
   ]
  },
  {
   "cell_type": "code",
   "execution_count": 16,
   "id": "abc33f40",
   "metadata": {},
   "outputs": [
    {
     "data": {
      "text/plain": [
       "['a', 'b', 'c', 'd', 'e', 'f', 'g', 'x', 'y', 'z']"
      ]
     },
     "execution_count": 16,
     "metadata": {},
     "output_type": "execute_result"
    }
   ],
   "source": [
    "omega = ['x','y','z']\n",
    "alpa + omega"
   ]
  },
  {
   "cell_type": "code",
   "execution_count": 17,
   "id": "7f2795d9",
   "metadata": {},
   "outputs": [
    {
     "data": {
      "text/plain": [
       "[1, 2, 3, 1, 2, 3, 1, 2, 3, 1, 2, 3]"
      ]
     },
     "execution_count": 17,
     "metadata": {},
     "output_type": "execute_result"
    }
   ],
   "source": [
    "# 리스트 반복하기(*)\n",
    "list1 = [1,2,3]\n",
    "list2 = list1*4\n",
    "list2"
   ]
  },
  {
   "cell_type": "code",
   "execution_count": 18,
   "id": "cf538cdb",
   "metadata": {},
   "outputs": [
    {
     "data": {
      "text/plain": [
       "['x', 'y', 'z', 'x', 'y', 'z', 'x', 'y', 'z']"
      ]
     },
     "execution_count": 18,
     "metadata": {},
     "output_type": "execute_result"
    }
   ],
   "source": [
    "omega*3"
   ]
  },
  {
   "cell_type": "code",
   "execution_count": 19,
   "id": "81dfc112",
   "metadata": {},
   "outputs": [
    {
     "name": "stdout",
     "output_type": "stream",
     "text": [
      "['x', 'y']\n"
     ]
    }
   ],
   "source": [
    "omega.remove('z')\n",
    "print(omega)"
   ]
  },
  {
   "cell_type": "code",
   "execution_count": 20,
   "id": "bed523e8",
   "metadata": {},
   "outputs": [
    {
     "name": "stdout",
     "output_type": "stream",
     "text": [
      "['x']\n"
     ]
    }
   ],
   "source": [
    "omega.pop() #마지막 요소 삭제\n",
    "print(omega)"
   ]
  },
  {
   "cell_type": "code",
   "execution_count": 21,
   "id": "4539981b",
   "metadata": {},
   "outputs": [
    {
     "name": "stdout",
     "output_type": "stream",
     "text": [
      "['x']\n"
     ]
    }
   ],
   "source": [
    "omega.reverse()\n",
    "print(omega)"
   ]
  },
  {
   "cell_type": "code",
   "execution_count": 22,
   "id": "acdd5cc6",
   "metadata": {},
   "outputs": [
    {
     "data": {
      "text/plain": [
       "[1, 2, 3, 4, 5]"
      ]
     },
     "execution_count": 22,
     "metadata": {},
     "output_type": "execute_result"
    }
   ],
   "source": [
    "n = [2,3,5,4,1]\n",
    "n.sort()\n",
    "n"
   ]
  },
  {
   "cell_type": "code",
   "execution_count": 23,
   "id": "4d59e14c",
   "metadata": {},
   "outputs": [
    {
     "name": "stdout",
     "output_type": "stream",
     "text": [
      "a1: [6, 3, 9]\n",
      "-----정렬 후-----\n",
      "a1: [3, 6, 9]\n",
      "a2: None\n"
     ]
    }
   ],
   "source": [
    "#sort() return 값은 None\n",
    "a1 = [6, 3, 9]\n",
    "print('a1:', a1)\n",
    "a2 = a1.sort() # 원본을 정렬하고 수정합니다(in-place)\n",
    "print('-----정렬 후-----')\n",
    "print('a1:', a1)\n",
    "print('a2:', a2)"
   ]
  },
  {
   "cell_type": "code",
   "execution_count": 24,
   "id": "40a5d180",
   "metadata": {},
   "outputs": [
    {
     "name": "stdout",
     "output_type": "stream",
     "text": [
      "b1: [6, 3, 9]\n",
      "-----정렬 후-----\n",
      "b1: [6, 3, 9]\n",
      "b2: [3, 6, 9]\n"
     ]
    }
   ],
   "source": [
    "#원본 리스트 b1 값은 유지되고 정렬된 새 리스트는 b2에 저장\n",
    "b1 = [6, 3, 9]\n",
    "print('b1:', b1)\n",
    "b2 = sorted(b1) # 원본은 유지하고 정렬한 새 리스트를 만듭니다\n",
    "print('-----정렬 후-----')\n",
    "print('b1:', b1)\n",
    "print('b2:', b2)"
   ]
  },
  {
   "cell_type": "code",
   "execution_count": 25,
   "id": "e5a85549",
   "metadata": {},
   "outputs": [
    {
     "name": "stdout",
     "output_type": "stream",
     "text": [
      "list A : [0, 1, 2, 3, 4], 주소 : 1532696623424\n",
      "list X : [0, 1, 2, 3, 4], 주소 : 1532696623424\n",
      "list Y : [0, 1, 2, 3, 4], 주소 : 1532696624512\n",
      "list Z : [0, 1, 2, 3, 4], 주소 : 1532696623680\n",
      "list B : [0, 1, 2, 3, 4], 주소 : 1532696624128\n"
     ]
    }
   ],
   "source": [
    "A = [0,1,2,3,4]\n",
    "print(f'list A : {A}, 주소 : {id(A)}')\n",
    "\n",
    "X = A #대입\n",
    "print(f'list X : {X}, 주소 : {id(X)}')\n",
    "### 얕은 복사\n",
    "\n",
    "# 1. list(old)\n",
    "Y = list(A) \n",
    "print(f'list Y : {Y}, 주소 : {id(Y)}')\n",
    "\n",
    "# 2. old.copy() \n",
    "Z = A.copy()\n",
    "print(f'list Z : {Z}, 주소 : {id(Z)}')\n",
    "\n",
    "# 3. new = old[:] 슬라이싱을 통한 새로운 값을 할당\n",
    "B = A[:]#간단하게 깊은 복사 쓰기\n",
    "print(f'list B : {B}, 주소 : {id(B)}')"
   ]
  },
  {
   "cell_type": "code",
   "execution_count": 26,
   "id": "9d7ad34e",
   "metadata": {},
   "outputs": [
    {
     "name": "stdout",
     "output_type": "stream",
     "text": [
      "list A =  [1000, 1, 2, 3, 4] , 주소 :  1532696623424\n",
      "list X =  [1000, 1, 2, 3, 4] , 주소 :  1532696623424\n",
      "list Y =  [0, 1, 2, 3, 4]\n",
      "list Z =  [0, 1, 2, 3, 4]\n",
      "list B =  [0, 1, 2, 3, 4]\n"
     ]
    }
   ],
   "source": [
    "# 원본 리스트 A의 요소를 수정해 보자\n",
    "A[0] = 1000\n",
    "print('list A = ',A,', 주소 : ',id(A)) #mutable\n",
    "print('list X = ',X,', 주소 : ',id(X))\n",
    "print('list Y = ',Y)\n",
    "print('list Z = ',Z)\n",
    "print('list B = ',B)"
   ]
  },
  {
   "cell_type": "code",
   "execution_count": 27,
   "id": "97183284",
   "metadata": {},
   "outputs": [
    {
     "name": "stdout",
     "output_type": "stream",
     "text": [
      "성적: 23\n",
      "성적: 45\n",
      "성적: 55\n",
      "성적: -1\n",
      "122 30.5\n"
     ]
    }
   ],
   "source": [
    "score = []\n",
    "sum = 0\n",
    "s=0\n",
    "while s != -1:\n",
    "    s=int(input('성적: '))\n",
    "    sum += s\n",
    "    score.append(s)\n",
    "print(sum, sum/len(score))"
   ]
  },
  {
   "cell_type": "code",
   "execution_count": 28,
   "id": "aec2d81e",
   "metadata": {},
   "outputs": [
    {
     "name": "stdout",
     "output_type": "stream",
     "text": [
      "양의 정수를 입력: 3\n",
      "양의 정수를 입력: 2\n",
      "양의 정수를 입력: 5\n",
      "양의 정수를 입력: 4\n",
      "양의 정수를 입력: 1\n",
      "양의 정수를 입력: 0\n",
      "5\n"
     ]
    }
   ],
   "source": [
    "num = []\n",
    "while 1:\n",
    "    n = int(input('양의 정수를 입력: '))\n",
    "    if n == 0:\n",
    "        break\n",
    "    num.append(n)\n",
    "num.sort()\n",
    "print(num[-1])"
   ]
  },
  {
   "cell_type": "markdown",
   "id": "87503a28",
   "metadata": {},
   "source": [
    "### tuple"
   ]
  },
  {
   "cell_type": "code",
   "execution_count": 29,
   "id": "ca367733",
   "metadata": {},
   "outputs": [
    {
     "name": "stdout",
     "output_type": "stream",
     "text": [
      "<class 'tuple'> <class 'tuple'>\n",
      "() (1, 2, 3)\n"
     ]
    }
   ],
   "source": [
    "#tuple() 사용하여 생성\n",
    "a = tuple()\n",
    "b = tuple([1,2,3])\n",
    "print(type(a),type(b))\n",
    "print(a,b)"
   ]
  },
  {
   "cell_type": "code",
   "execution_count": 30,
   "id": "3ae5a1af",
   "metadata": {},
   "outputs": [
    {
     "name": "stdout",
     "output_type": "stream",
     "text": [
      "<class 'tuple'> <class 'tuple'>\n",
      "(1, 2, 3) (4, 5, 6)\n"
     ]
    }
   ],
   "source": [
    "# 튜플의 생성 ()없이 ,만으로 생성 가능\n",
    "a=(1,2,3)\n",
    "b=4,5,6\n",
    "print(type(a),type(b))\n",
    "print(a,b)"
   ]
  },
  {
   "cell_type": "code",
   "execution_count": 31,
   "id": "884c1e80",
   "metadata": {},
   "outputs": [
    {
     "name": "stdout",
     "output_type": "stream",
     "text": [
      "(1,) <class 'tuple'>\n"
     ]
    }
   ],
   "source": [
    "# 단,항목이 한개인 튜플 생성 : ,를 넣어줘야 한다\n",
    "a = (1,)\n",
    "print(a, type(a))"
   ]
  },
  {
   "cell_type": "code",
   "execution_count": 32,
   "id": "7f7524d3",
   "metadata": {},
   "outputs": [
    {
     "name": "stdout",
     "output_type": "stream",
     "text": [
      "1 <class 'int'>\n"
     ]
    }
   ],
   "source": [
    "a = (1)\n",
    "print(a,type(a))"
   ]
  },
  {
   "cell_type": "code",
   "execution_count": 33,
   "id": "17994b47",
   "metadata": {},
   "outputs": [
    {
     "name": "stdout",
     "output_type": "stream",
     "text": [
      "(4, 5, 'a', 7)\n"
     ]
    }
   ],
   "source": [
    "c = 4,5,'a',7\n",
    "print(c)"
   ]
  },
  {
   "cell_type": "markdown",
   "id": "25da9233",
   "metadata": {},
   "source": [
    "### Dict"
   ]
  },
  {
   "cell_type": "code",
   "execution_count": 34,
   "id": "8e52e799",
   "metadata": {},
   "outputs": [
    {
     "name": "stdout",
     "output_type": "stream",
     "text": [
      "{'name': 'lyj', 'age': 23, 'id': 19}\n"
     ]
    }
   ],
   "source": [
    "member = {'name':'lyj', 'age': 23, 'id': 19}\n",
    "#키값 중복시 마지막사용\n",
    "print(member)"
   ]
  },
  {
   "cell_type": "code",
   "execution_count": 35,
   "id": "d20bd272",
   "metadata": {},
   "outputs": [
    {
     "name": "stdout",
     "output_type": "stream",
     "text": [
      "{'name': 'lyj', 'age': 23, 'id': 19, 'add': 'Munsan'}\n",
      "Munsan\n"
     ]
    }
   ],
   "source": [
    "member['add'] = 'Munsan'\n",
    "print(member)\n",
    "print(member['add'])"
   ]
  },
  {
   "cell_type": "code",
   "execution_count": 53,
   "id": "8ccf7090",
   "metadata": {},
   "outputs": [
    {
     "name": "stdout",
     "output_type": "stream",
     "text": [
      "{'kor': 90, 'eng': 89, 'math': 95, 'science': 88}\n",
      "kor => 90\n",
      "eng => 89\n",
      "math => 95\n",
      "science => 88\n",
      "합계점수: 362, 평균점수 : 90.5\n"
     ]
    }
   ],
   "source": [
    "scores= {'kor':90,'eng' : 89,'math':95,'science':88}\n",
    "print(scores)\n",
    "\n",
    "# key를 추출할 수 있다.\n",
    "sum = 0\n",
    "for key in scores:\n",
    "    print(f'{key} => {scores[key]}')\n",
    "    sum += scores[key]\n",
    "print(f'합계점수: {sum}, 평균점수 : {sum/len(scores)}')"
   ]
  },
  {
   "cell_type": "code",
   "execution_count": 52,
   "id": "d678d03a",
   "metadata": {},
   "outputs": [
    {
     "name": "stdout",
     "output_type": "stream",
     "text": [
      "dict_keys(['kor', 'eng', 'math', 'science', '사회', '역사', '국어'])\n",
      "dict_values([90, 89, 95, 88, 100, 98, 90])\n",
      "dict_items([('kor', 90), ('eng', 89), ('math', 95), ('science', 88), ('사회', 100), ('역사', 98), ('국어', 90)])\n"
     ]
    }
   ],
   "source": [
    "print(scores.keys())\n",
    "print(scores.values())\n",
    "print(scores.items())"
   ]
  },
  {
   "cell_type": "code",
   "execution_count": 50,
   "id": "f5e41fda",
   "metadata": {},
   "outputs": [
    {
     "name": "stdout",
     "output_type": "stream",
     "text": [
      "{'kor': 90, 'eng': 89, 'math': 95, 'science': 88}\n",
      "95\n",
      "95\n"
     ]
    }
   ],
   "source": [
    "# 키로 값 가져오기 (get)\n",
    "value = scores.get('math')\n",
    "value2 = scores['math']\n",
    "print(scores)\n",
    "print(value)\n",
    "print(value2)"
   ]
  },
  {
   "cell_type": "code",
   "execution_count": 51,
   "id": "7c408742",
   "metadata": {},
   "outputs": [
    {
     "data": {
      "text/plain": [
       "{'kor': 90,\n",
       " 'eng': 89,\n",
       " 'math': 95,\n",
       " 'science': 88,\n",
       " '사회': 100,\n",
       " '역사': 98,\n",
       " '국어': 90}"
      ]
     },
     "execution_count": 51,
     "metadata": {},
     "output_type": "execute_result"
    }
   ],
   "source": [
    "# 딕셔너리 합치기\n",
    "# 현재의 딕셔너리에 다른 딕셔너리의 key,value값을 추가한다 \n",
    "# 단, 키가 있는경우 value만 업데이트\n",
    "scores2 = {'사회': 100, '역사': 98, '국어':90}\n",
    "scores.update(scores2)\n",
    "scores"
   ]
  },
  {
   "cell_type": "code",
   "execution_count": 55,
   "id": "ef386144",
   "metadata": {},
   "outputs": [
    {
     "name": "stdout",
     "output_type": "stream",
     "text": [
      "give me a integer1\n",
      "give me a integer3\n",
      "give me a integer5\n",
      "{'a': 1, 'b': 3, 'c': 5}\n",
      "3.0\n"
     ]
    }
   ],
   "source": [
    "alpa = ['a', 'b', 'c']\n",
    "A = dict()\n",
    "\n",
    "for al in alpa:\n",
    "    bet = int(input('give me a integer'))\n",
    "    A[al] = bet\n",
    "print(A)\n",
    "sum = 0\n",
    "for i in A:\n",
    "    sum += A[i]\n",
    "avg = sum/len(A)\n",
    "print(avg)"
   ]
  },
  {
   "cell_type": "code",
   "execution_count": 56,
   "id": "43caeda7",
   "metadata": {},
   "outputs": [
    {
     "name": "stdout",
     "output_type": "stream",
     "text": [
      "BTS의 성적을 입력해주세요20\n",
      "트와이스의 성적을 입력해주세요30\n",
      "블랙핑크의 성적을 입력해주세요40\n",
      "뉴이스트의 성적을 입력해주세요35\n",
      "BTS의 성적은 : 20\n",
      "트와이스의 성적은 : 30\n",
      "블랙핑크의 성적은 : 40\n",
      "뉴이스트의 성적은 : 35\n",
      "총점 : 125, 평균 : 31.25\n"
     ]
    }
   ],
   "source": [
    "# for문에서 items() 사용하기 \n",
    "names = ['BTS','트와이스','블랙핑크','뉴이스트'] \n",
    "idols = dict()\n",
    "\n",
    "for name in names:\n",
    "    score = int(input(f'{name}의 성적을 입력해주세요'))\n",
    "    idols[name] = score\n",
    "\n",
    "total = 0\n",
    "for name,score in idols.items():\n",
    "    total+=idols[name]\n",
    "    print(f'{name}의 성적은 : {score}')\n",
    "avg = total/len(idols)\n",
    "print(f'총점 : {total}, 평균 : {avg:5}')"
   ]
  },
  {
   "cell_type": "markdown",
   "id": "8689a0eb",
   "metadata": {},
   "source": [
    "### Set"
   ]
  },
  {
   "cell_type": "code",
   "execution_count": 57,
   "id": "59a99369",
   "metadata": {},
   "outputs": [
    {
     "data": {
      "text/plain": [
       "{1, 2, 3, 4}"
      ]
     },
     "execution_count": 57,
     "metadata": {},
     "output_type": "execute_result"
    }
   ],
   "source": [
    "s1 = {1,2,3,3,3,4,4,}\n",
    "s1"
   ]
  },
  {
   "cell_type": "code",
   "execution_count": 58,
   "id": "3ac06fd9",
   "metadata": {},
   "outputs": [
    {
     "name": "stdout",
     "output_type": "stream",
     "text": [
      "[1, 1, 2, 2, 2, 3, 3, 3, 4, 4, 4, 4]\n",
      "[1, 2, 3, 4]\n"
     ]
    }
   ],
   "source": [
    "s2 = [1,1,2,2,2,3,3,3,4,4,4,4,]\n",
    "print(s2)\n",
    "\n",
    "s2 = list(set(s2))#중복값을 지울때 요기나다!\n",
    "print(s2)"
   ]
  },
  {
   "cell_type": "code",
   "execution_count": 69,
   "id": "0f416cc9",
   "metadata": {},
   "outputs": [],
   "source": [
    "a=set([1,2,3,4,])\n",
    "b=set([4,5,6,7])"
   ]
  },
  {
   "cell_type": "code",
   "execution_count": 63,
   "id": "fa8f5ed6",
   "metadata": {},
   "outputs": [
    {
     "data": {
      "text/plain": [
       "{1, 2, 3, 4, 5, 6, 7}"
      ]
     },
     "execution_count": 63,
     "metadata": {},
     "output_type": "execute_result"
    }
   ],
   "source": [
    "a|b#합집합"
   ]
  },
  {
   "cell_type": "code",
   "execution_count": 64,
   "id": "5a2f61ba",
   "metadata": {},
   "outputs": [
    {
     "data": {
      "text/plain": [
       "{4}"
      ]
     },
     "execution_count": 64,
     "metadata": {},
     "output_type": "execute_result"
    }
   ],
   "source": [
    "a&b#교집합"
   ]
  },
  {
   "cell_type": "code",
   "execution_count": 65,
   "id": "bccc6794",
   "metadata": {},
   "outputs": [
    {
     "data": {
      "text/plain": [
       "{1, 2, 3}"
      ]
     },
     "execution_count": 65,
     "metadata": {},
     "output_type": "execute_result"
    }
   ],
   "source": [
    "a-b#차집합"
   ]
  },
  {
   "cell_type": "code",
   "execution_count": 66,
   "id": "6ca0a0e8",
   "metadata": {},
   "outputs": [
    {
     "data": {
      "text/plain": [
       "{1, 2, 3, 5, 6, 7}"
      ]
     },
     "execution_count": 66,
     "metadata": {},
     "output_type": "execute_result"
    }
   ],
   "source": [
    "a^b#합집합 - 교집합"
   ]
  },
  {
   "cell_type": "code",
   "execution_count": 70,
   "id": "0112611b",
   "metadata": {},
   "outputs": [
    {
     "name": "stdout",
     "output_type": "stream",
     "text": [
      "{1, 2, 3, 4}\n",
      "{1, 2, 4}\n",
      "{4, 5, 6, 7, 10, 11, 12, 13}\n",
      "{1, 2, 4}\n"
     ]
    }
   ],
   "source": [
    "print(a)\n",
    "a.remove(3) #해당하는 key 값이 없으면 오류 발생 O\n",
    "print(a)\n",
    "b.update({10,11,12,11,13})\n",
    "print(b)\n",
    "b.discard(9) #해당하는 key 값이 없어도 오류 발생 X\n",
    "print(a)"
   ]
  },
  {
   "cell_type": "markdown",
   "id": "c91423ed",
   "metadata": {},
   "source": [
    "### 복합자료형 심화"
   ]
  },
  {
   "cell_type": "code",
   "execution_count": 72,
   "id": "d6533216",
   "metadata": {},
   "outputs": [
    {
     "data": {
      "text/plain": [
       "[0, 1, 2, 3, 4]"
      ]
     },
     "execution_count": 72,
     "metadata": {},
     "output_type": "execute_result"
    }
   ],
   "source": [
    "a= [n for n in range(5)]\n",
    "a"
   ]
  },
  {
   "cell_type": "code",
   "execution_count": 74,
   "id": "fdda8d03",
   "metadata": {},
   "outputs": [
    {
     "name": "stdout",
     "output_type": "stream",
     "text": [
      "[0, 1, 4, 9, 16]\n"
     ]
    }
   ],
   "source": [
    "a = [num*num for num in range(5)]\n",
    "print(a)"
   ]
  },
  {
   "cell_type": "code",
   "execution_count": 75,
   "id": "3c1c6eba",
   "metadata": {},
   "outputs": [
    {
     "name": "stdout",
     "output_type": "stream",
     "text": [
      "[3, 6, 9, 12, 15, 18]\n"
     ]
    }
   ],
   "source": [
    "numList2 = [num for num in range(1,21) if num%3 ==0 ]\n",
    "print(numList2)"
   ]
  },
  {
   "cell_type": "code",
   "execution_count": 76,
   "id": "9c168569",
   "metadata": {},
   "outputs": [
    {
     "name": "stdout",
     "output_type": "stream",
     "text": [
      "떡볶이 --> 오뎅\n",
      "짜장면 --> 단무지\n",
      "라면 --> 김치\n"
     ]
    }
   ],
   "source": [
    "foods = ['떡볶이','짜장면','라면','피자','치킨','맥주']\n",
    "sides = ['오뎅','단무지','김치']\n",
    "for food,side in zip(foods,sides):\n",
    "    print(f'{food} --> {side}')"
   ]
  },
  {
   "cell_type": "code",
   "execution_count": 77,
   "id": "6c849813",
   "metadata": {},
   "outputs": [
    {
     "name": "stdout",
     "output_type": "stream",
     "text": [
      "(1, 'A') <class 'tuple'>\n",
      "(2, 'B') <class 'tuple'>\n",
      "(3, 'C') <class 'tuple'>\n"
     ]
    }
   ],
   "source": [
    "numbers = [1,2,3]\n",
    "letters = ['A','B','C']\n",
    "for pair in zip(numbers,letters):\n",
    "    print(pair,type(pair))"
   ]
  },
  {
   "cell_type": "code",
   "execution_count": 78,
   "id": "c7ac9854",
   "metadata": {},
   "outputs": [
    {
     "name": "stdout",
     "output_type": "stream",
     "text": [
      "{'떡볶이': '오뎅', '짜장면': '단무지', '라면': '김치'} <class 'dict'>\n"
     ]
    }
   ],
   "source": [
    "# 딕셔너리로 추출\n",
    "my_dict = dict(zip(foods, sides))\n",
    "print(my_dict,type(my_dict))"
   ]
  },
  {
   "cell_type": "markdown",
   "id": "098a9f05",
   "metadata": {},
   "source": [
    "### func"
   ]
  },
  {
   "cell_type": "code",
   "execution_count": 79,
   "id": "a34de0f4",
   "metadata": {},
   "outputs": [
    {
     "data": {
      "text/plain": [
       "['ArithmeticError',\n",
       " 'AssertionError',\n",
       " 'AttributeError',\n",
       " 'BaseException',\n",
       " 'BlockingIOError',\n",
       " 'BrokenPipeError',\n",
       " 'BufferError',\n",
       " 'BytesWarning',\n",
       " 'ChildProcessError',\n",
       " 'ConnectionAbortedError',\n",
       " 'ConnectionError',\n",
       " 'ConnectionRefusedError',\n",
       " 'ConnectionResetError',\n",
       " 'DeprecationWarning',\n",
       " 'EOFError',\n",
       " 'Ellipsis',\n",
       " 'EnvironmentError',\n",
       " 'Exception',\n",
       " 'False',\n",
       " 'FileExistsError',\n",
       " 'FileNotFoundError',\n",
       " 'FloatingPointError',\n",
       " 'FutureWarning',\n",
       " 'GeneratorExit',\n",
       " 'IOError',\n",
       " 'ImportError',\n",
       " 'ImportWarning',\n",
       " 'IndentationError',\n",
       " 'IndexError',\n",
       " 'InterruptedError',\n",
       " 'IsADirectoryError',\n",
       " 'KeyError',\n",
       " 'KeyboardInterrupt',\n",
       " 'LookupError',\n",
       " 'MemoryError',\n",
       " 'ModuleNotFoundError',\n",
       " 'NameError',\n",
       " 'None',\n",
       " 'NotADirectoryError',\n",
       " 'NotImplemented',\n",
       " 'NotImplementedError',\n",
       " 'OSError',\n",
       " 'OverflowError',\n",
       " 'PendingDeprecationWarning',\n",
       " 'PermissionError',\n",
       " 'ProcessLookupError',\n",
       " 'RecursionError',\n",
       " 'ReferenceError',\n",
       " 'ResourceWarning',\n",
       " 'RuntimeError',\n",
       " 'RuntimeWarning',\n",
       " 'StopAsyncIteration',\n",
       " 'StopIteration',\n",
       " 'SyntaxError',\n",
       " 'SyntaxWarning',\n",
       " 'SystemError',\n",
       " 'SystemExit',\n",
       " 'TabError',\n",
       " 'TimeoutError',\n",
       " 'True',\n",
       " 'TypeError',\n",
       " 'UnboundLocalError',\n",
       " 'UnicodeDecodeError',\n",
       " 'UnicodeEncodeError',\n",
       " 'UnicodeError',\n",
       " 'UnicodeTranslateError',\n",
       " 'UnicodeWarning',\n",
       " 'UserWarning',\n",
       " 'ValueError',\n",
       " 'Warning',\n",
       " 'WindowsError',\n",
       " 'ZeroDivisionError',\n",
       " '__IPYTHON__',\n",
       " '__build_class__',\n",
       " '__debug__',\n",
       " '__doc__',\n",
       " '__import__',\n",
       " '__loader__',\n",
       " '__name__',\n",
       " '__package__',\n",
       " '__spec__',\n",
       " 'abs',\n",
       " 'all',\n",
       " 'any',\n",
       " 'ascii',\n",
       " 'bin',\n",
       " 'bool',\n",
       " 'breakpoint',\n",
       " 'bytearray',\n",
       " 'bytes',\n",
       " 'callable',\n",
       " 'chr',\n",
       " 'classmethod',\n",
       " 'compile',\n",
       " 'complex',\n",
       " 'copyright',\n",
       " 'credits',\n",
       " 'delattr',\n",
       " 'dict',\n",
       " 'dir',\n",
       " 'display',\n",
       " 'divmod',\n",
       " 'enumerate',\n",
       " 'eval',\n",
       " 'exec',\n",
       " 'execfile',\n",
       " 'filter',\n",
       " 'float',\n",
       " 'format',\n",
       " 'frozenset',\n",
       " 'get_ipython',\n",
       " 'getattr',\n",
       " 'globals',\n",
       " 'hasattr',\n",
       " 'hash',\n",
       " 'help',\n",
       " 'hex',\n",
       " 'id',\n",
       " 'input',\n",
       " 'int',\n",
       " 'isinstance',\n",
       " 'issubclass',\n",
       " 'iter',\n",
       " 'len',\n",
       " 'license',\n",
       " 'list',\n",
       " 'locals',\n",
       " 'map',\n",
       " 'max',\n",
       " 'memoryview',\n",
       " 'min',\n",
       " 'next',\n",
       " 'object',\n",
       " 'oct',\n",
       " 'open',\n",
       " 'ord',\n",
       " 'pow',\n",
       " 'print',\n",
       " 'property',\n",
       " 'range',\n",
       " 'repr',\n",
       " 'reversed',\n",
       " 'round',\n",
       " 'runfile',\n",
       " 'set',\n",
       " 'setattr',\n",
       " 'slice',\n",
       " 'sorted',\n",
       " 'staticmethod',\n",
       " 'str',\n",
       " 'sum',\n",
       " 'super',\n",
       " 'tuple',\n",
       " 'type',\n",
       " 'vars',\n",
       " 'zip']"
      ]
     },
     "execution_count": 79,
     "metadata": {},
     "output_type": "execute_result"
    }
   ],
   "source": [
    "# built-in(내장) 함수 확인\n",
    "dir(__builtins__)"
   ]
  },
  {
   "cell_type": "code",
   "execution_count": 81,
   "id": "e9846412",
   "metadata": {},
   "outputs": [
    {
     "data": {
      "text/plain": [
       "2"
      ]
     },
     "execution_count": 81,
     "metadata": {},
     "output_type": "execute_result"
    }
   ],
   "source": [
    "def Max(a,b):\n",
    "    if a>b:\n",
    "        y=a\n",
    "    else:\n",
    "        y=b\n",
    "    return y\n",
    "\n",
    "Max(1,2)"
   ]
  },
  {
   "cell_type": "code",
   "execution_count": 83,
   "id": "8663d53e",
   "metadata": {},
   "outputs": [
    {
     "name": "stdout",
     "output_type": "stream",
     "text": [
      "(5, 6)\n"
     ]
    },
    {
     "data": {
      "text/plain": [
       "tuple"
      ]
     },
     "execution_count": 83,
     "metadata": {},
     "output_type": "execute_result"
    }
   ],
   "source": [
    "def add_mul(x,y):\n",
    "    add = x+y\n",
    "    mul=x*y\n",
    "    return add,mul\n",
    "\n",
    "n = add_mul(2,3)\n",
    "print(n)\n",
    "type(n)"
   ]
  },
  {
   "cell_type": "code",
   "execution_count": 87,
   "id": "72961f8d",
   "metadata": {},
   "outputs": [
    {
     "name": "stdout",
     "output_type": "stream",
     "text": [
      "lyj\n",
      "23\n",
      "man\n",
      "munsan\n"
     ]
    }
   ],
   "source": [
    "def info(name, age, man=True,add='비공개'):\n",
    "    print(name)\n",
    "    print(age)\n",
    "    if man == 1:\n",
    "        print('man')\n",
    "    else:\n",
    "        print('girl')\n",
    "    print(add)\n",
    "    \n",
    "info('lyj', 23, 1,'munsan')"
   ]
  },
  {
   "cell_type": "code",
   "execution_count": 116,
   "id": "6e8cc2d9",
   "metadata": {},
   "outputs": [
    {
     "name": "stdout",
     "output_type": "stream",
     "text": [
      "몇각형: 3\n"
     ]
    }
   ],
   "source": [
    "import turtle as t\n",
    "def poly(n):\n",
    "    for i in range(n):\n",
    "        t.forward(100)\n",
    "        t.left(360/n)\n",
    "   # t.mainloop()\n",
    "    t.exitonclick()\n",
    "n = int(input('몇각형: '))\n",
    "poly(n)"
   ]
  },
  {
   "cell_type": "code",
   "execution_count": 117,
   "id": "2a5acdc4",
   "metadata": {},
   "outputs": [
    {
     "name": "stdout",
     "output_type": "stream",
     "text": [
      "파이썬 공부를 해요\n"
     ]
    }
   ],
   "source": [
    "# 무제한 인자 받기: *인수를 튜플로 받기\n",
    "def merge_string (*text_list) : \n",
    "    result = ''\n",
    "    for s in text_list :\n",
    "        result = result + s\n",
    "    return result\n",
    "\n",
    "print(merge_string( '파이썬 ', '공부를 ','해요'))"
   ]
  },
  {
   "cell_type": "code",
   "execution_count": 118,
   "id": "a2c48135",
   "metadata": {},
   "outputs": [
    {
     "name": "stdout",
     "output_type": "stream",
     "text": [
      "55\n"
     ]
    }
   ],
   "source": [
    "# 무제한 인자 받기: *인수를 튜플로 받기\n",
    "def add_many (*num_list) : \n",
    "    result = 0\n",
    "    for s in num_list :\n",
    "        result = result + s\n",
    "    return result\n",
    "\n",
    "print(add_many(1,2,3,4,5,6,7,8,9,10 ))"
   ]
  },
  {
   "cell_type": "code",
   "execution_count": 119,
   "id": "b0a2dd47",
   "metadata": {},
   "outputs": [
    {
     "name": "stdout",
     "output_type": "stream",
     "text": [
      "a:1, b:(2, 3, 4, 5)\n"
     ]
    }
   ],
   "source": [
    "# 일부분 무제한 인자 받기: *튜플로 받기\n",
    "# 꼭 필요한 인수(a,b)를 우선 나열\n",
    "def args(a,*b):\n",
    "    print(f'a:{a}, b:{b}')\n",
    "\n",
    "args(1,2,3,4,5)"
   ]
  },
  {
   "cell_type": "code",
   "execution_count": 120,
   "id": "0da31b25",
   "metadata": {},
   "outputs": [
    {
     "data": {
      "text/plain": [
       "[11, 22, 33, 44]"
      ]
     },
     "execution_count": 120,
     "metadata": {},
     "output_type": "execute_result"
    }
   ],
   "source": [
    "a = [1,2,3,4]; b = [10,20,30,40]\n",
    "list(map( lambda x, y : x+y , a, b))"
   ]
  },
  {
   "cell_type": "code",
   "execution_count": 124,
   "id": "79e43122",
   "metadata": {},
   "outputs": [
    {
     "name": "stdout",
     "output_type": "stream",
     "text": [
      "<class 'map'>\n",
      "[1, 4, 9, 16, 25]\n"
     ]
    }
   ],
   "source": [
    "#map()과 lambda 함수\n",
    "#map(함수명,순서가 있는 자료형)\n",
    "x = [1,2,3,4,5]\n",
    "y = map(lambda a : a*a, x)\n",
    "print(type(y))\n",
    "y = list(y)\n",
    "print(y)"
   ]
  },
  {
   "cell_type": "code",
   "execution_count": 122,
   "id": "75229779",
   "metadata": {},
   "outputs": [
    {
     "name": "stdout",
     "output_type": "stream",
     "text": [
      "<class 'filter'>\n",
      "[7, 9]\n"
     ]
    }
   ],
   "source": [
    "#filter() 내장함수와 lambda 함수\n",
    "x = [1,3,5,7,9]\n",
    "result = filter(lambda x : x > 5, x)\n",
    "print(type(result))\n",
    "result = list(result)\n",
    "print(result)"
   ]
  },
  {
   "cell_type": "code",
   "execution_count": 129,
   "id": "a07f84ef",
   "metadata": {},
   "outputs": [
    {
     "name": "stdout",
     "output_type": "stream",
     "text": [
      "계산할 연산자(+,-,*,/,//,%)를 입력하세요 : *\n",
      "첫 번째 수를 입력하세요 : 6\n",
      "두 번째 수를 입력하세요 : 9\n",
      "\n",
      "계산기 실행\n",
      "6 * 9 = 54\n"
     ]
    }
   ],
   "source": [
    "def calc(x,y,op):\n",
    "    result = 0 #지역변수\n",
    "    if op =='+':\n",
    "        return x+y\n",
    "    elif op == '-':\n",
    "        return x-y\n",
    "    elif op == '*':\n",
    "        return x*y\n",
    "    elif op == '/':\n",
    "        return x/y\n",
    "    elif op == '//':\n",
    "        return x//y\n",
    "    elif op == '%':\n",
    "        return x%y\n",
    "    else:\n",
    "        return print(\"잘못된 연산기호입니다.\")\n",
    "\n",
    "var1, var2, calcResult = 0,0,0 #전역변수\n",
    "\n",
    "oper = input(\"계산할 연산자(+,-,*,/,//,%)를 입력하세요 : \")\n",
    "var1 = int(input(\"첫 번째 수를 입력하세요 : \"))\n",
    "var2 = int(input(\"두 번째 수를 입력하세요 : \"))\n",
    "\n",
    "print()\n",
    "print(\"계산기 실행\")\n",
    "calcResult = calc(var1, var2, oper)\n",
    "print(var1,oper,var2,'=',calcResult)"
   ]
  },
  {
   "cell_type": "code",
   "execution_count": 132,
   "id": "f96ec6dc",
   "metadata": {},
   "outputs": [
    {
     "name": "stdout",
     "output_type": "stream",
     "text": [
      "7\n"
     ]
    }
   ],
   "source": [
    "import add\n",
    "print(add.add(4,3))"
   ]
  },
  {
   "cell_type": "code",
   "execution_count": 2,
   "id": "40e667f9",
   "metadata": {},
   "outputs": [
    {
     "name": "stdout",
     "output_type": "stream",
     "text": [
      "두개의 숫자를 공백으로 입력: 3 5\n",
      "8\n"
     ]
    }
   ],
   "source": [
    "a,b = input('두개의 숫자를 공백으로 입력: ').split()\n",
    "#구분자를 가지고 문자열 입력받는다. 디폴트값 공백\n",
    "print(int(a) + int(b))"
   ]
  },
  {
   "cell_type": "code",
   "execution_count": 4,
   "id": "1961c84e",
   "metadata": {},
   "outputs": [
    {
     "name": "stdout",
     "output_type": "stream",
     "text": [
      "두개의 숫자를 공백으로 입력: 3 4\n",
      "7\n"
     ]
    }
   ],
   "source": [
    "a,b = map(int, input('두개의 숫자를 공백으로 입력: ').split())\n",
    "#using a map fnc.\n",
    "print(a+b)"
   ]
  },
  {
   "cell_type": "code",
   "execution_count": 5,
   "id": "eadf5731",
   "metadata": {},
   "outputs": [
    {
     "name": "stdout",
     "output_type": "stream",
     "text": [
      "0.12630701065063477\n"
     ]
    }
   ],
   "source": [
    "import time\n",
    "\n",
    "start = time.time()\n",
    "nlist = []\n",
    "for n in range(1,1000001):\n",
    "    nlist.append(n)\n",
    "print(time.time()-start)"
   ]
  },
  {
   "cell_type": "code",
   "execution_count": 6,
   "id": "8e6663a7",
   "metadata": {},
   "outputs": [
    {
     "name": "stdout",
     "output_type": "stream",
     "text": [
      "0.06768298149108887\n"
     ]
    }
   ],
   "source": [
    "start = time.time()\n",
    "nlist = [n for n in range(1,1000001)]\n",
    "print(time.time()-start)"
   ]
  },
  {
   "cell_type": "code",
   "execution_count": 11,
   "id": "ed0af63f",
   "metadata": {},
   "outputs": [
    {
     "name": "stdout",
     "output_type": "stream",
     "text": [
      "숫자를 맞춰봐(1~50): 25\n",
      "더 작은 숫자야17\n",
      "더 작은 숫자야8\n",
      "더 큰 숫자야13\n",
      "더 큰 숫자야15\n",
      "더 큰 숫자야16\n",
      "정답!\n",
      "6 번 만에 맞췄네\n"
     ]
    }
   ],
   "source": [
    "import random as rand\n",
    "\n",
    "n = rand.randint(1,50)\n",
    "count = 1\n",
    "i = int(input('숫자를 맞춰봐(1~50): '))\n",
    "while i != n:\n",
    "    if n > i:\n",
    "        i = int(input('더 큰 숫자야'))\n",
    "        count += 1\n",
    "    elif n<i:\n",
    "        i = int(input('더 작은 숫자야'))\n",
    "        count += 1\n",
    "print('정답!')\n",
    "print(count,'번 만에 맞췄네')"
   ]
  },
  {
   "cell_type": "code",
   "execution_count": 27,
   "id": "ddec76b5",
   "metadata": {},
   "outputs": [
    {
     "data": {
      "text/plain": [
       "[42, 33, 17, 5, 6, 27]"
      ]
     },
     "execution_count": 27,
     "metadata": {},
     "output_type": "execute_result"
    }
   ],
   "source": [
    "import random as rand\n",
    "nlist = list(range(1,46))\n",
    "rand.sample(nlist,6)"
   ]
  }
 ],
 "metadata": {
  "kernelspec": {
   "display_name": "Python 3 (ipykernel)",
   "language": "python",
   "name": "python3"
  },
  "language_info": {
   "codemirror_mode": {
    "name": "ipython",
    "version": 3
   },
   "file_extension": ".py",
   "mimetype": "text/x-python",
   "name": "python",
   "nbconvert_exporter": "python",
   "pygments_lexer": "ipython3",
   "version": "3.9.12"
  }
 },
 "nbformat": 4,
 "nbformat_minor": 5
}
