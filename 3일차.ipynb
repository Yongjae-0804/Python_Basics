{
 "cells": [
  {
   "cell_type": "markdown",
   "id": "8c6fb407",
   "metadata": {},
   "source": [
    "### 조건문"
   ]
  },
  {
   "cell_type": "code",
   "execution_count": 1,
   "id": "bd16505b",
   "metadata": {},
   "outputs": [
    {
     "name": "stdout",
     "output_type": "stream",
     "text": [
      "true\n"
     ]
    }
   ],
   "source": [
    "if 1:\n",
    "    print('true')"
   ]
  },
  {
   "cell_type": "code",
   "execution_count": 2,
   "id": "0ed8c95a",
   "metadata": {},
   "outputs": [
    {
     "name": "stdout",
     "output_type": "stream",
     "text": [
      "true\n"
     ]
    }
   ],
   "source": [
    "if not 0:\n",
    "    print('true')"
   ]
  },
  {
   "cell_type": "code",
   "execution_count": 3,
   "id": "cf46c19e",
   "metadata": {},
   "outputs": [
    {
     "name": "stdout",
     "output_type": "stream",
     "text": [
      "합격\n"
     ]
    }
   ],
   "source": [
    "score = 90\n",
    "if score >=80:\n",
    "    print('합격')"
   ]
  },
  {
   "cell_type": "code",
   "execution_count": 4,
   "id": "d607b2a6",
   "metadata": {},
   "outputs": [
    {
     "name": "stdout",
     "output_type": "stream",
     "text": [
      "give a point39\n",
      "rip\n"
     ]
    }
   ],
   "source": [
    "point = int(input('give a point'))\n",
    "if point >= 3000:\n",
    "    print('vvip')\n",
    "elif point >= 2000:\n",
    "    print('vip')\n",
    "else:\n",
    "    print('rip')"
   ]
  },
  {
   "cell_type": "code",
   "execution_count": 5,
   "id": "55aa220c",
   "metadata": {},
   "outputs": [
    {
     "name": "stdout",
     "output_type": "stream",
     "text": [
      "정수를 입력: 3\n",
      "양의 정수\n"
     ]
    }
   ],
   "source": [
    "n = int(input('정수를 입력: '))\n",
    "if n==0:\n",
    "    print('0')\n",
    "elif n>0:\n",
    "    print('양의 정수')\n",
    "elif n<0:\n",
    "    print('음의 정수')"
   ]
  },
  {
   "cell_type": "code",
   "execution_count": 6,
   "id": "5b2d19bf",
   "metadata": {},
   "outputs": [
    {
     "name": "stdout",
     "output_type": "stream",
     "text": [
      "성적을 입력: 59\n",
      "학교 왜다님?\n"
     ]
    }
   ],
   "source": [
    "score = int(input('성적을 입력: '))\n",
    "if score >=70:\n",
    "    print('A')\n",
    "    if score >=90:\n",
    "        print('장학생')\n",
    "elif score >= 60:\n",
    "    print('B')\n",
    "else:\n",
    "    print('학교 왜다님?')"
   ]
  },
  {
   "cell_type": "code",
   "execution_count": 7,
   "id": "6f6f2e09",
   "metadata": {
    "scrolled": true
   },
   "outputs": [
    {
     "name": "stdout",
     "output_type": "stream",
     "text": [
      "연도를 입력 하시오: 2000\n",
      "2000 은 윤년이다.\n"
     ]
    }
   ],
   "source": [
    "year = int(input('연도를 입력 하시오: '))\n",
    "if (year%4 == 0 and year%100 != 0) | (year%400 == 0):\n",
    "    print(f'{year} 은 윤년이다.')\n",
    "else:\n",
    "    print(f'{year}is 윤년이 아니다.')"
   ]
  },
  {
   "cell_type": "code",
   "execution_count": 8,
   "id": "bfa76ace",
   "metadata": {},
   "outputs": [
    {
     "name": "stdout",
     "output_type": "stream",
     "text": [
      "3은 홀수\n"
     ]
    }
   ],
   "source": [
    "n = 3\n",
    "print('{}은 {}'.format(n,'짝수' if n%2 == 0 else '홀수'))"
   ]
  },
  {
   "cell_type": "markdown",
   "id": "f8d507e7",
   "metadata": {},
   "source": [
    "### 반복문"
   ]
  },
  {
   "cell_type": "code",
   "execution_count": 14,
   "id": "5e643dbb",
   "metadata": {},
   "outputs": [
    {
     "name": "stdout",
     "output_type": "stream",
     "text": [
      "num = 11 sum = 55\n"
     ]
    }
   ],
   "source": [
    "a=1\n",
    "sum=0\n",
    "while a<=10:\n",
    "    sum += a\n",
    "    a += 1\n",
    "print('num = %d sum = %d'%(a,sum))"
   ]
  },
  {
   "cell_type": "code",
   "execution_count": 15,
   "id": "baf826d6",
   "metadata": {},
   "outputs": [
    {
     "name": "stdout",
     "output_type": "stream",
     "text": [
      "sum is 30\n"
     ]
    }
   ],
   "source": [
    "a = 1\n",
    "sum = 0\n",
    "while a <=10:\n",
    "    if a % 2 == 0:\n",
    "        sum += a\n",
    "    a+=1\n",
    "print('sum is %d'%sum)"
   ]
  },
  {
   "cell_type": "code",
   "execution_count": 17,
   "id": "24a49903",
   "metadata": {},
   "outputs": [
    {
     "name": "stdout",
     "output_type": "stream",
     "text": [
      "\n",
      "    1.추가\n",
      "    2.삭제\n",
      "    3.목록\n",
      "    4.종료\n",
      "    번호를 입력하세요:\n",
      "4\n"
     ]
    }
   ],
   "source": [
    "prompt = \"\"\"\n",
    "    1.추가\n",
    "    2.삭제\n",
    "    3.목록\n",
    "    4.종료\n",
    "    번호를 입력하세요:\n",
    "\"\"\"\n",
    "n = 0\n",
    "\n",
    "while n != 4:\n",
    "    n = int(input(prompt))"
   ]
  },
  {
   "cell_type": "code",
   "execution_count": 18,
   "id": "dc2ab69b",
   "metadata": {},
   "outputs": [
    {
     "name": "stdout",
     "output_type": "stream",
     "text": [
      "\n",
      "    1.추가\n",
      "    2.삭제\n",
      "    3.목록\n",
      "    4.종료\n",
      "    번호를 입력하세요:\n",
      "4\n"
     ]
    }
   ],
   "source": [
    "prompt = \"\"\"\n",
    "    1.추가\n",
    "    2.삭제\n",
    "    3.목록\n",
    "    4.종료\n",
    "    번호를 입력하세요:\n",
    "\"\"\"\n",
    "n = 0\n",
    "\n",
    "while 1:\n",
    "    n = int(input(prompt))\n",
    "    if n == 4:\n",
    "        break"
   ]
  },
  {
   "cell_type": "code",
   "execution_count": 2,
   "id": "1756f207",
   "metadata": {},
   "outputs": [
    {
     "name": "stdout",
     "output_type": "stream",
     "text": [
      "1~100까지의 수중에서 3의 배수가 아닌 수들의 합은 3367\n"
     ]
    }
   ],
   "source": [
    "## 1~100까지의 수 중에서 3의 배수가 아닌 수들의 합을 구한다\n",
    "num = 0\n",
    "hap = 0\n",
    "while num < 100:\n",
    "    num += 1\n",
    "    if num % 3 == 0:\n",
    "        continue\n",
    "    hap += num\n",
    "print(f'1~100까지의 수중에서 3의 배수가 아닌 수들의 합은 {hap}')"
   ]
  },
  {
   "cell_type": "code",
   "execution_count": 4,
   "id": "0b63dd12",
   "metadata": {},
   "outputs": [
    {
     "name": "stdout",
     "output_type": "stream",
     "text": [
      "몇단?3\n",
      "3 x 1 = 3\n",
      "3 x 2 = 6\n",
      "3 x 3 = 9\n",
      "3 x 4 = 12\n",
      "3 x 5 = 15\n",
      "3 x 6 = 18\n",
      "3 x 7 = 21\n",
      "3 x 8 = 24\n",
      "3 x 9 = 27\n"
     ]
    }
   ],
   "source": [
    "dan = int(input('몇단?'))\n",
    "i = 0\n",
    "while i < 9:\n",
    "    i += 1\n",
    "    print('%d x %d = %d'%(dan, i, dan*i))"
   ]
  },
  {
   "cell_type": "code",
   "execution_count": 7,
   "id": "a7040496",
   "metadata": {
    "scrolled": true
   },
   "outputs": [
    {
     "name": "stdout",
     "output_type": "stream",
     "text": [
      "0\n",
      "2\n",
      "4\n",
      "6\n",
      "8\n",
      "10\n",
      "12\n",
      "14\n",
      "16\n",
      "18\n",
      "20\n"
     ]
    }
   ],
   "source": [
    "for i in range(0,22,2):\n",
    "    print(i)"
   ]
  },
  {
   "cell_type": "code",
   "execution_count": 9,
   "id": "d94ebe6e",
   "metadata": {},
   "outputs": [
    {
     "name": "stdout",
     "output_type": "stream",
     "text": [
      "문장을 입력하세요:ddd\n",
      "ddd"
     ]
    }
   ],
   "source": [
    "word = input('문장을 입력하세요:')\n",
    "for x in word:\n",
    "    print(x, end = '')"
   ]
  },
  {
   "cell_type": "code",
   "execution_count": 12,
   "id": "71cca5f6",
   "metadata": {},
   "outputs": [],
   "source": [
    "import turtle as t\n",
    "\n",
    "t.shape('turtle')\n",
    "t.color('blue')\n",
    "t.pensize(3)\n",
    "\n",
    "for i in range(5):\n",
    "    t.circle(40)\n",
    "    t.forward(80)\n",
    "    \n",
    "t.mainloop()"
   ]
  },
  {
   "cell_type": "code",
   "execution_count": 13,
   "id": "46988d15",
   "metadata": {},
   "outputs": [
    {
     "name": "stdout",
     "output_type": "stream",
     "text": [
      "키 150의 표준 몸무게는 45 Kg\n",
      "키 155의 표준 몸무게는 50 Kg\n",
      "키 160의 표준 몸무게는 54 Kg\n",
      "키 165의 표준 몸무게는 58 Kg\n",
      "키 170의 표준 몸무게는 63 Kg\n",
      "키 175의 표준 몸무게는 68 Kg\n",
      "키 180의 표준 몸무게는 72 Kg\n"
     ]
    }
   ],
   "source": [
    "for i in range(150,181,5):\n",
    "    avg = (i - 100)*0.9\n",
    "    print('키 %d의 표준 몸무게는 %.f Kg'%(i,avg))"
   ]
  },
  {
   "cell_type": "code",
   "execution_count": 22,
   "id": "e26828d8",
   "metadata": {},
   "outputs": [
    {
     "name": "stdout",
     "output_type": "stream",
     "text": [
      "give number: 100000\n",
      "100000 5000050000\n"
     ]
    }
   ],
   "source": [
    "num = int(input('give number: '))\n",
    "sum = 0\n",
    "for i in range(num+1):\n",
    "    sum += i\n",
    "print(f'{num} {sum}')"
   ]
  },
  {
   "cell_type": "code",
   "execution_count": 23,
   "id": "f2aecc50",
   "metadata": {},
   "outputs": [
    {
     "name": "stdout",
     "output_type": "stream",
     "text": [
      "factorial: 3\n",
      "6\n"
     ]
    }
   ],
   "source": [
    "num = int(input('factorial: '))\n",
    "fac = 1\n",
    "for i in range(1, num+1):\n",
    "    fac*=i\n",
    "print(fac)"
   ]
  },
  {
   "cell_type": "code",
   "execution_count": 25,
   "id": "ec029306",
   "metadata": {
    "scrolled": true
   },
   "outputs": [
    {
     "name": "stdout",
     "output_type": "stream",
     "text": [
      "단을 입력하세요: 2\n",
      "2x1 =  2\n",
      "2x2 =  4\n",
      "2x3 =  6\n",
      "2x4 =  8\n",
      "2x5 = 10\n",
      "2x6 = 12\n",
      "2x7 = 14\n",
      "2x8 = 16\n",
      "2x9 = 18\n"
     ]
    }
   ],
   "source": [
    "dan = int(input('단을 입력하세요: '))\n",
    "for i in range(1, 10):\n",
    "    print('{0}x{1} = {2:>2}'.format(dan, i, dan*i))"
   ]
  },
  {
   "cell_type": "code",
   "execution_count": 44,
   "id": "b54584b2",
   "metadata": {},
   "outputs": [
    {
     "name": "stdout",
     "output_type": "stream",
     "text": [
      "2x1 =  2    2x2 =  4    2x3 =  6    2x4 =  8    2x5 = 10    2x6 = 12    2x7 = 14    2x8 = 16    2x9 = 18    \n",
      "3x1 =  3    3x2 =  6    3x3 =  9    3x4 = 12    3x5 = 15    3x6 = 18    3x7 = 21    3x8 = 24    3x9 = 27    \n",
      "4x1 =  4    4x2 =  8    4x3 = 12    4x4 = 16    4x5 = 20    4x6 = 24    4x7 = 28    4x8 = 32    4x9 = 36    \n",
      "5x1 =  5    5x2 = 10    5x3 = 15    5x4 = 20    5x5 = 25    5x6 = 30    5x7 = 35    5x8 = 40    5x9 = 45    \n",
      "6x1 =  6    6x2 = 12    6x3 = 18    6x4 = 24    6x5 = 30    6x6 = 36    6x7 = 42    6x8 = 48    6x9 = 54    \n",
      "7x1 =  7    7x2 = 14    7x3 = 21    7x4 = 28    7x5 = 35    7x6 = 42    7x7 = 49    7x8 = 56    7x9 = 63    \n",
      "8x1 =  8    8x2 = 16    8x3 = 24    8x4 = 32    8x5 = 40    8x6 = 48    8x7 = 56    8x8 = 64    8x9 = 72    \n"
     ]
    }
   ],
   "source": [
    "## 구구단 출력\n",
    "\n",
    "dan, i = 0,0\n",
    "for dan in range(2,9):\n",
    "    for i in range(1, 10):\n",
    "        print('{0}x{1} = {2:>2}'.format(dan, i, dan*i), end=\"    \")\n",
    "    print()"
   ]
  },
  {
   "cell_type": "code",
   "execution_count": 51,
   "id": "49e8fb04",
   "metadata": {},
   "outputs": [
    {
     "name": "stdout",
     "output_type": "stream",
     "text": [
      "줄입력3\n",
      "*\n",
      "**\n",
      "***\n"
     ]
    }
   ],
   "source": [
    "## 패턴 만들어 보기\n",
    "import time\n",
    "a = int(input('줄입력'))\n",
    "\n",
    "for i in range(1, a+1):\n",
    "    for j in range(1, i+1):\n",
    "        print('*',end=\"\")\n",
    "    print()"
   ]
  },
  {
   "cell_type": "code",
   "execution_count": 47,
   "id": "2188fba1",
   "metadata": {},
   "outputs": [
    {
     "name": "stdout",
     "output_type": "stream",
     "text": [
      "숫자를 입력하세요:4\n",
      "♥♥♥♥\n"
     ]
    }
   ],
   "source": [
    "## 입력한 숫자만큼 하트를 출력해 보자\n",
    "heartStr=\"\"\n",
    "numStr = input('숫자를 입력하세요:')\n",
    "numLen = len(numStr)\n",
    "\n",
    "for i in range(numLen):\n",
    "    num = int(numStr[i])   # 그릴 heart 개수를 int로 변환한다\n",
    "    for j in range(num):\n",
    "        heartStr += '*'    # heart를 숫자 개수만큼 추가한다\n",
    "    print(heartStr)        # 만들어진 heartStr을 출력한다\n",
    "    heartStr=\"\"            # heartStr을 초기화 한다"
   ]
  },
  {
   "cell_type": "code",
   "execution_count": 53,
   "id": "d804616a",
   "metadata": {},
   "outputs": [
    {
     "name": "stdout",
     "output_type": "stream",
     "text": [
      "id: box1577\n",
      "good\n"
     ]
    }
   ],
   "source": [
    "\n",
    "while 1:\n",
    "    id = input('id: ')\n",
    "    if id == 'box1577':\n",
    "        print('good')\n",
    "        break\n",
    "    else:\n",
    "        print('응안이야')"
   ]
  },
  {
   "cell_type": "code",
   "execution_count": 56,
   "id": "47eadf7d",
   "metadata": {},
   "outputs": [
    {
     "name": "stdout",
     "output_type": "stream",
     "text": [
      "number: 4\n",
      "1\n",
      "2\n",
      "4\n"
     ]
    }
   ],
   "source": [
    "n = int(input('number: '))\n",
    "for i in range(1,n+1):\n",
    "    if n%i == 0:\n",
    "        print(i)"
   ]
  },
  {
   "cell_type": "code",
   "execution_count": 65,
   "id": "c4341199",
   "metadata": {},
   "outputs": [
    {
     "name": "stdout",
     "output_type": "stream",
     "text": [
      "number: 2\n",
      "number: 1\n",
      "number: 3\n",
      "number: 4\n",
      "number: 5\n",
      "[5]\n"
     ]
    },
    {
     "ename": "IndexError",
     "evalue": "list index out of range",
     "output_type": "error",
     "traceback": [
      "\u001b[1;31m---------------------------------------------------------------------------\u001b[0m",
      "\u001b[1;31mIndexError\u001b[0m                                Traceback (most recent call last)",
      "Input \u001b[1;32mIn [65]\u001b[0m, in \u001b[0;36m<cell line: 5>\u001b[1;34m()\u001b[0m\n\u001b[0;32m      4\u001b[0m \u001b[38;5;28mprint\u001b[39m(n)\n\u001b[0;32m      5\u001b[0m \u001b[38;5;28;01mfor\u001b[39;00m j \u001b[38;5;129;01min\u001b[39;00m \u001b[38;5;28mrange\u001b[39m(\u001b[38;5;241m5\u001b[39m):\n\u001b[1;32m----> 6\u001b[0m     \u001b[38;5;28;01mif\u001b[39;00m \u001b[43mn\u001b[49m\u001b[43m[\u001b[49m\u001b[43mj\u001b[49m\u001b[43m]\u001b[49m\u001b[38;5;241m>\u001b[39m\u001b[38;5;28mmax\u001b[39m:\n\u001b[0;32m      7\u001b[0m         \u001b[38;5;28mmax\u001b[39m \u001b[38;5;241m=\u001b[39m n[i]\n\u001b[0;32m      8\u001b[0m \u001b[38;5;28mprint\u001b[39m(\u001b[38;5;28mmax\u001b[39m)\n",
      "\u001b[1;31mIndexError\u001b[0m: list index out of range"
     ]
    }
   ],
   "source": [
    "\n",
    "for i in range(5):\n",
    "    n = [int(input('number: '))]\n",
    "max = n[0]\n",
    "print(n)\n",
    "for j in range(5):\n",
    "    if n[j]>max:\n",
    "        max = n[i]\n",
    "print(max)"
   ]
  },
  {
   "cell_type": "code",
   "execution_count": null,
   "id": "f75df370",
   "metadata": {},
   "outputs": [],
   "source": []
  }
 ],
 "metadata": {
  "kernelspec": {
   "display_name": "Python 3 (ipykernel)",
   "language": "python",
   "name": "python3"
  },
  "language_info": {
   "codemirror_mode": {
    "name": "ipython",
    "version": 3
   },
   "file_extension": ".py",
   "mimetype": "text/x-python",
   "name": "python",
   "nbconvert_exporter": "python",
   "pygments_lexer": "ipython3",
   "version": "3.9.12"
  }
 },
 "nbformat": 4,
 "nbformat_minor": 5
}
