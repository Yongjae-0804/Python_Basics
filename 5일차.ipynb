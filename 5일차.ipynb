{
 "cells": [
  {
   "cell_type": "markdown",
   "id": "541923d6",
   "metadata": {},
   "source": [
    "### Class"
   ]
  },
  {
   "cell_type": "raw",
   "id": "edfe86a5",
   "metadata": {},
   "source": [
    "class 클래스명:\n",
    "    def __init__(self):\n",
    "        #초기화"
   ]
  },
  {
   "cell_type": "code",
   "execution_count": 2,
   "id": "8638fdf4",
   "metadata": {},
   "outputs": [],
   "source": [
    "class Car:\n",
    "    color=\"\"\n",
    "    speed = 0\n",
    "    \n",
    "    def upSpeed(self, value):\n",
    "        self.speed += value\n",
    "    \n",
    "    def downSpeed(self, value):\n",
    "        self.speed -= value"
   ]
  },
  {
   "cell_type": "code",
   "execution_count": 3,
   "id": "1d327354",
   "metadata": {},
   "outputs": [
    {
     "name": "stdout",
     "output_type": "stream",
     "text": [
      "빨강 색 자동차의 속도는 30 입니다\n",
      "노랑 색 자동차의 속도는 40 입니다\n",
      "파랑 색 자동차의 속도는 50 입니다\n"
     ]
    }
   ],
   "source": [
    "myCar1 = Car()\n",
    "myCar1.color =\"빨강\"\n",
    "myCar2 = Car()\n",
    "myCar2.color =\"노랑\"\n",
    "myCar3 = Car()\n",
    "myCar3.color =\"파랑\"\n",
    "\n",
    "myCar1.upSpeed(30)\n",
    "myCar2.upSpeed(40)\n",
    "myCar3.upSpeed(50)\n",
    "\n",
    "print(\"%s 색 자동차의 속도는 %d 입니다\"%(myCar1.color, myCar1.speed))\n",
    "print(\"%s 색 자동차의 속도는 %d 입니다\"%(myCar2.color, myCar2.speed))\n",
    "print(\"%s 색 자동차의 속도는 %d 입니다\"%(myCar3.color, myCar3.speed))"
   ]
  },
  {
   "cell_type": "code",
   "execution_count": 4,
   "id": "2c807726",
   "metadata": {},
   "outputs": [],
   "source": [
    "class Person:\n",
    "    name =\"\"\n",
    "    \n",
    "    def greeting(self):\n",
    "        print('hello')\n",
    "    \n",
    "    def hello(self):\n",
    "        self.greeting()\n",
    "    \n",
    "    def say_name(self):\n",
    "        print(f'My name is {self.name}')"
   ]
  },
  {
   "cell_type": "code",
   "execution_count": 5,
   "id": "573097a5",
   "metadata": {
    "scrolled": true
   },
   "outputs": [
    {
     "name": "stdout",
     "output_type": "stream",
     "text": [
      "hello\n",
      "My name is james\n",
      "hello\n",
      "My name is pretty\n"
     ]
    }
   ],
   "source": [
    "james = Person()\n",
    "pretty = Person()\n",
    "\n",
    "james.name =\"james\"\n",
    "james.hello()\n",
    "james.say_name()\n",
    "\n",
    "pretty.name = \"pretty\"\n",
    "pretty.greeting()\n",
    "pretty.say_name()"
   ]
  },
  {
   "cell_type": "code",
   "execution_count": 6,
   "id": "ec276ca6",
   "metadata": {
    "scrolled": true
   },
   "outputs": [
    {
     "data": {
      "text/plain": [
       "['__class__',\n",
       " '__delattr__',\n",
       " '__dict__',\n",
       " '__dir__',\n",
       " '__doc__',\n",
       " '__eq__',\n",
       " '__format__',\n",
       " '__ge__',\n",
       " '__getattribute__',\n",
       " '__gt__',\n",
       " '__hash__',\n",
       " '__init__',\n",
       " '__init_subclass__',\n",
       " '__le__',\n",
       " '__lt__',\n",
       " '__module__',\n",
       " '__ne__',\n",
       " '__new__',\n",
       " '__reduce__',\n",
       " '__reduce_ex__',\n",
       " '__repr__',\n",
       " '__setattr__',\n",
       " '__sizeof__',\n",
       " '__str__',\n",
       " '__subclasshook__',\n",
       " '__weakref__',\n",
       " 'greeting',\n",
       " 'hello',\n",
       " 'name',\n",
       " 'say_name']"
      ]
     },
     "execution_count": 6,
     "metadata": {},
     "output_type": "execute_result"
    }
   ],
   "source": [
    "dir(james)"
   ]
  },
  {
   "cell_type": "code",
   "execution_count": 7,
   "id": "1fab7332",
   "metadata": {},
   "outputs": [
    {
     "name": "stdout",
     "output_type": "stream",
     "text": [
      "My name is 사람\n",
      "My name is 홍길동\n"
     ]
    }
   ],
   "source": [
    "#기본생성자\n",
    "## 클래스의 선언부분 ##\n",
    "class Person:\n",
    "    name =\"\"\n",
    "    \n",
    "    def __init__(self):\n",
    "        self.name = \"사람\"\n",
    "\n",
    "    def greeting(self):\n",
    "        print('hello')\n",
    "        \n",
    "    def hello(self):\n",
    "        self.greeting()\n",
    "    \n",
    "    def say_name(self):\n",
    "        print(f\"My name is {self.name}\")\n",
    "        \n",
    "person1 = Person()\n",
    "person1.say_name()\n",
    "person1.name = '홍길동'\n",
    "person1.say_name()"
   ]
  },
  {
   "cell_type": "code",
   "execution_count": 8,
   "id": "1379af1e",
   "metadata": {},
   "outputs": [
    {
     "name": "stdout",
     "output_type": "stream",
     "text": [
      "안녕하세요. 저는 홍길동이고 나이는 20 입니다.\n"
     ]
    }
   ],
   "source": [
    "#다중 인자 생성자\n",
    "class Person:\n",
    "    def __init__(self, name, age, address):\n",
    "        self.hello = '안녕하세요.'\n",
    "        self.name = name\n",
    "        self.age = age\n",
    "        self.address = address\n",
    "    def greeting(self):\n",
    "        print('{} 저는 {}이고 나이는 {} 입니다.'.format(self.hello, self.name, self.age))\n",
    "person1 = Person(\"홍길동\", 20, '서울시 관악구')\n",
    "person1.greeting()"
   ]
  },
  {
   "cell_type": "raw",
   "id": "de22578f",
   "metadata": {},
   "source": [
    "#비공개 필드\n",
    "class Person:\n",
    "    def __init__(self, name, age, address, wallet):\n",
    "        self.name = name\n",
    "        self.age = age\n",
    "        self.address = address\n",
    "        self.__wallet = wallet     # 변수  앞에 __를 붙여서 비공개 속성으로 만듦\n",
    "        \n",
    "maria = Person('마리아', 20, '서울시 서초구 반포동', 10000)\n",
    "maria.__wallet -= 10000 # 에러가 생김"
   ]
  },
  {
   "cell_type": "code",
   "execution_count": 10,
   "id": "47ce1d5d",
   "metadata": {},
   "outputs": [
    {
     "name": "stdout",
     "output_type": "stream",
     "text": [
      "지갑에 20000 원이 있습니다\n"
     ]
    }
   ],
   "source": [
    "## 비공개 필드명은 내부 메소드에서 설정한다\n",
    "\n",
    "class Person:\n",
    "    def __init__(self, name, age, address, wallet):\n",
    "        self.name = name\n",
    "        self.age = age\n",
    "        self.address = address\n",
    "        self.__wallet = wallet # 변수 앞에 __를 붙여서 비공개 속성으로 만듦\n",
    "        \n",
    "    def set_wallet(self, amount):\n",
    "        self.__wallet = amount\n",
    "        print(\"지갑에 %d 원이 있습니다\" % self.__wallet)\n",
    "maria = Person('마리아', 20, '서울시 서초구 반포동', 10000)\n",
    "maria.set_wallet(20000)"
   ]
  },
  {
   "cell_type": "code",
   "execution_count": 11,
   "id": "4e329ebb",
   "metadata": {},
   "outputs": [
    {
     "name": "stdout",
     "output_type": "stream",
     "text": [
      "9500 남았습니다\n"
     ]
    }
   ],
   "source": [
    "## 비공개 메소드는 내부 메소드에서 호출한다\n",
    "\n",
    "class Person:\n",
    "    def __init__(self, name, age, address, wallet):\n",
    "        self.name = name\n",
    "        self.age = age\n",
    "        self.address = address\n",
    "        self.__wallet = wallet\n",
    "        \n",
    "    def __printWallet(self):\n",
    "        print(\"%d 남았습니다\" % self.__wallet)\n",
    "        \n",
    "    def pay(self, amount):\n",
    "        self.__wallet -= amount;\n",
    "        self.__printWallet()\n",
    "        \n",
    "maria = Person('마리아', 20, '서울시 서초구 반포동', 10000)\n",
    "maria.pay(500)\n"
   ]
  },
  {
   "cell_type": "code",
   "execution_count": 12,
   "id": "88e942f1",
   "metadata": {},
   "outputs": [
    {
     "name": "stdout",
     "output_type": "stream",
     "text": [
      "자동차1의 속도는 30 km, 생성된 자동차는 총 1 대입니다\n",
      "자동차2의 속도는 60 km, 생성된 자동차는 총 2 대입니다\n"
     ]
    },
    {
     "data": {
      "text/plain": [
       "3"
      ]
     },
     "execution_count": 12,
     "metadata": {},
     "output_type": "execute_result"
    }
   ],
   "source": [
    "# ## 인스턴스 변수와 클래스 변수\n",
    "## 클래스 선언 부분 ##\n",
    "class Car:\n",
    "    color=\"\"\n",
    "    speed = 0\n",
    "    count = 0\n",
    "    \n",
    "    def __init__(self):\n",
    "        self.speed=0\n",
    "        Car.count +=1\n",
    "        \n",
    "## 변수 선언 부분\n",
    "myCar1, myCar2 = None, None\n",
    "\n",
    "## 메인 코드 부분\n",
    "myCar1 = Car()\n",
    "myCar1.speed = 30\n",
    "print('자동차1의 속도는 %d km, 생성된 자동차는 총 %d 대입니다'%((myCar1.speed, Car.count)))\n",
    "\n",
    "myCar2 = Car()\n",
    "myCar2.speed = 60\n",
    "print('자동차2의 속도는 %d km, 생성된 자동차는 총 %d 대입니다'%((myCar2.speed, Car.count)))\n",
    "myCar3 = Car()\n",
    "myCar2.count"
   ]
  },
  {
   "cell_type": "code",
   "execution_count": 13,
   "id": "1349486e",
   "metadata": {},
   "outputs": [
    {
     "name": "stdout",
     "output_type": "stream",
     "text": [
      "트럭 --> 현재 속도(슈퍼클래스): 200\n",
      "승용차 --> 현재 속도(서브 클래스): 150\n"
     ]
    }
   ],
   "source": [
    "#상속\n",
    "class Car:\n",
    "    color=\"\"\n",
    "    speed = 0\n",
    "    count = 0\n",
    "    \n",
    "    def __init__(self):\n",
    "        self.speed=0\n",
    "        Car.count +=1        \n",
    "    \n",
    "    def upSpeed(self, value):\n",
    "        self.speed += value\n",
    "        print('현재 속도(슈퍼클래스): %d'%self.speed)\n",
    "\n",
    "class Sedan(Car):\n",
    "    color=\"\"\n",
    "    speed = 0\n",
    "    \n",
    "    def upSpeed(self, value):\n",
    "        self.speed += value\n",
    "        \n",
    "        if self.speed > 150:\n",
    "            self.speed = 150\n",
    "        print('현재 속도(서브 클래스): %d'%self.speed)\n",
    "        \n",
    "#pass : 아무것도 하지 않는다(문법적으로 문장이 필요하지만, 프로그램이 특별히 할 일이 없을 때 사용\n",
    "class Truck(Car):\n",
    "    pass\n",
    "\n",
    "## 변수 선언 부분 ##\n",
    "sedan1, truck1 = None, None\n",
    "\n",
    "## 메인 코드 부분 ##\n",
    "truck1 = Truck()\n",
    "sedan1 = Sedan()\n",
    "\n",
    "print(\"트럭 -->\", end = \" \")\n",
    "truck1.upSpeed(200)\n",
    "\n",
    "print(\"승용차 -->\", end = \" \")\n",
    "sedan1.upSpeed(200)"
   ]
  },
  {
   "cell_type": "code",
   "execution_count": 14,
   "id": "8c412ec9",
   "metadata": {},
   "outputs": [
    {
     "name": "stdout",
     "output_type": "stream",
     "text": [
      "happy Is barking\n",
      "Kitty is white\n"
     ]
    }
   ],
   "source": [
    "## 강아지 클래스\n",
    "class Dog:\n",
    "    def __init__(self, name, age):\n",
    "        self.name = name\n",
    "        self.age = age\n",
    "    \n",
    "    def bark(self):\n",
    "        print(self.name, 'Is barking')\n",
    "\n",
    "## 고양이 클래스\n",
    "class Cat:\n",
    "    def __init__(self, name, color):\n",
    "        self.name = name\n",
    "        self.color = color\n",
    "    \n",
    "    def show_color(self):\n",
    "        print(self.name, 'is', self.color)\n",
    "        \n",
    "a = Dog('happy', 3)\n",
    "b = Cat('Kitty', 'white')\n",
    "\n",
    "a.bark()\n",
    "b.show_color()"
   ]
  },
  {
   "cell_type": "markdown",
   "id": "ef5126f5",
   "metadata": {},
   "source": [
    "### 예외처리"
   ]
  },
  {
   "cell_type": "code",
   "execution_count": 15,
   "id": "140afff3",
   "metadata": {},
   "outputs": [
    {
     "name": "stdout",
     "output_type": "stream",
     "text": [
      "예외가 발생했습니다\n"
     ]
    }
   ],
   "source": [
    "try:\n",
    "    a = [1,2]\n",
    "    print(a[3])\n",
    "except :\n",
    "    print(\"예외가 발생했습니다\")"
   ]
  },
  {
   "cell_type": "code",
   "execution_count": 16,
   "id": "a426c47f",
   "metadata": {},
   "outputs": [
    {
     "name": "stdout",
     "output_type": "stream",
     "text": [
      "인덱싱 할 수 없습니다.\n"
     ]
    }
   ],
   "source": [
    "try:\n",
    "    a = [1,2]\n",
    "    print(a[3])\n",
    "except IndexError:\n",
    "    print(\"인덱싱 할 수 없습니다.\")"
   ]
  },
  {
   "cell_type": "code",
   "execution_count": 17,
   "id": "d2cbd6aa",
   "metadata": {},
   "outputs": [
    {
     "name": "stdout",
     "output_type": "stream",
     "text": [
      "인덱싱 할 수 없습니다.\n"
     ]
    }
   ],
   "source": [
    "try:\n",
    "    a = [1,2]\n",
    "    print(a[3])\n",
    "    4/0\n",
    "except ZeroDivisionError:\n",
    "    print(\"0으로 나눌 수 없습니다.\")\n",
    "except IndexError:\n",
    "    print(\"인덱싱 할 수 없습니다.\")"
   ]
  },
  {
   "cell_type": "code",
   "execution_count": 21,
   "id": "5bc4afae",
   "metadata": {},
   "outputs": [
    {
     "name": "stdout",
     "output_type": "stream",
     "text": [
      "오류가 발생했습니다 : division by zero\n"
     ]
    }
   ],
   "source": [
    "# 오류 메시지의 내용까지 알고 싶을 때 사용\n",
    "try:\n",
    "    4 / 0\n",
    "except ZeroDivisionError as e:\n",
    "    print(\"오류가 발생했습니다 :\",e)"
   ]
  },
  {
   "cell_type": "code",
   "execution_count": 22,
   "id": "81b567d9",
   "metadata": {},
   "outputs": [
    {
     "name": "stdout",
     "output_type": "stream",
     "text": [
      "list index out of range\n"
     ]
    }
   ],
   "source": [
    "# 여러가지 예외를 한번에 처리할 수도 있다.\n",
    "try:\n",
    "    a = [1,2]\n",
    "    print(a[3])\n",
    "    4/0\n",
    "except (ZeroDivisionError, IndexError) as e:\n",
    "    print(e)"
   ]
  },
  {
   "cell_type": "code",
   "execution_count": 24,
   "id": "49ade93c",
   "metadata": {},
   "outputs": [
    {
     "name": "stdout",
     "output_type": "stream",
     "text": [
      "나이를 입력하세요: 99\n",
      "환영합니다.\n"
     ]
    }
   ],
   "source": [
    "try:\n",
    "    age=int(input('나이를 입력하세요: '))\n",
    "except:\n",
    "    print('입력이 정확하지 않습니다.')\n",
    "else:\n",
    "    if age <= 18:\n",
    "        print('미성년자는 출입금지입니다.')\n",
    "    else:\n",
    "        print('환영합니다.')"
   ]
  },
  {
   "cell_type": "code",
   "execution_count": 25,
   "id": "91390442",
   "metadata": {},
   "outputs": [
    {
     "name": "stdout",
     "output_type": "stream",
     "text": [
      "다음과 같은 예외가 발생했습니다 : name 'aa' is not defined.\n",
      "이 부분은 어떤 일이 있어도 실행됩니다.\n"
     ]
    }
   ],
   "source": [
    "# 예외 처리 예제\n",
    "try:\n",
    "    c=aa/bb\n",
    "    print(y)\n",
    "    print(L[2])\n",
    "except Exception as err:\n",
    "    print(\"다음과 같은 예외가 발생했습니다 : {}.\".format(err))\n",
    "else:\n",
    "    print(\"에러가 발생하지 않아서 이 부분이 수행됩니다\")\n",
    "finally:\n",
    "    print(\"이 부분은 어떤 일이 있어도 실행됩니다.\")"
   ]
  },
  {
   "cell_type": "code",
   "execution_count": 26,
   "id": "31eec123",
   "metadata": {},
   "outputs": [
    {
     "name": "stdout",
     "output_type": "stream",
     "text": [
      "10.0\n",
      "3\n",
      "에러가 발생하지 않아서 이 부분이 수행됩니다\n",
      "이부분은 어떤 일이 있어도 실행됩니다.\n"
     ]
    }
   ],
   "source": [
    "# 예외 처리 예제\n",
    "aa=10\n",
    "bb=1\n",
    "L=[1,2,3,4,5]\n",
    "try:\n",
    "    c=aa/bb\n",
    "    print(c)\n",
    "    print(L[2])\n",
    "except Exception as err:\n",
    "    print(\"다음과 같은 예외가 발생했습니다 : {}.\".format(err))\n",
    "else:\n",
    "    print(\"에러가 발생하지 않아서 이 부분이 수행됩니다\")\n",
    "finally:\n",
    "    print(\"이부분은 어떤 일이 있어도 실행됩니다.\")"
   ]
  },
  {
   "cell_type": "markdown",
   "id": "46a12568",
   "metadata": {},
   "source": [
    "### 파일입출력"
   ]
  },
  {
   "cell_type": "code",
   "execution_count": 27,
   "id": "630adc09",
   "metadata": {},
   "outputs": [],
   "source": [
    "# 이때 디렉토리는 이미 존재해야함\n",
    "# 코드가 실행되면 c:\\python 디렉토리에 '새파일.txt' 파일이 생성된다.\n",
    "# 'w' : 쓰기 모드인 경우 이미 파일이 있으면 덮어씀(내용지워짐)\n",
    "\n",
    "f = open(\"C:\\\\Users\\\\box15\\\\Myjupyter\\\\광운대 파이썬 기초\\\\새파일.txt\",'w')"
   ]
  },
  {
   "cell_type": "code",
   "execution_count": 28,
   "id": "0edd8bc6",
   "metadata": {},
   "outputs": [
    {
     "name": "stdout",
     "output_type": "stream",
     "text": [
      " C 드라이브의 볼륨: Local Disk\n",
      " 볼륨 일련 번호: 8697-6595\n",
      "\n",
      " C:\\Users\\box15\\Myjupyter\\광운대 파이썬 기초 디렉터리\n",
      "\n",
      "2022-07-22  오후 02:13    <DIR>          .\n",
      "2022-07-22  오후 12:02    <DIR>          ..\n",
      "2022-07-22  오후 01:09    <DIR>          .ipynb_checkpoints\n",
      "2022-07-21  오후 03:57    <DIR>          __pycache__\n",
      "2022-07-18  오후 03:55             6,732 1.문법 쌩기초.ipynb\n",
      "2022-07-20  오후 01:51            10,453 2일차.ipynb\n",
      "2022-07-20  오후 03:47            16,008 3일차.ipynb\n",
      "2022-07-22  오후 01:29            38,906 4일차.ipynb\n",
      "2022-07-22  오후 02:12            17,625 5일차.ipynb\n",
      "2022-07-21  오후 03:53                33 add.py\n",
      "2022-07-22  오후 02:13                 0 새파일.txt\n",
      "               7개 파일              89,757 바이트\n",
      "               4개 디렉터리  169,615,306,752 바이트 남음\n"
     ]
    }
   ],
   "source": [
    "%ls"
   ]
  },
  {
   "cell_type": "code",
   "execution_count": 29,
   "id": "39a06690",
   "metadata": {},
   "outputs": [],
   "source": [
    "f.close()"
   ]
  },
  {
   "cell_type": "code",
   "execution_count": 30,
   "id": "780fa50e",
   "metadata": {},
   "outputs": [],
   "source": [
    "f = open(\"C:\\\\Users\\\\box15\\\\Myjupyter\\\\광운대 파이썬 기초\\\\새파일.txt\",'w')\n",
    "\n",
    "for i in range(1,10):\n",
    "    data  = \"%d 번째줄\\n\"%i\n",
    "    f.write(data)\n",
    "f.close()"
   ]
  },
  {
   "cell_type": "code",
   "execution_count": 41,
   "id": "e8dd2423",
   "metadata": {},
   "outputs": [
    {
     "name": "stdout",
     "output_type": "stream",
     "text": [
      "1 번째줄\n",
      "2 번째줄\n",
      "3 번째줄\n",
      "4 번째줄\n",
      "5 번째줄\n",
      "6 번째줄\n",
      "7 번째줄\n",
      "8 번째줄\n",
      "9 번째줄\n"
     ]
    }
   ],
   "source": [
    "# 파일을 열어서('r' 읽기모드) 모든 라인을 읽어서 화면에 출력하기\n",
    "# while문 사용 - readline() \n",
    "\n",
    "f = open(\"C:\\\\Users\\\\box15\\\\Myjupyter\\\\광운대 파이썬 기초\\\\새파일.txt\",'r')\n",
    "while True:\n",
    "    line = f.readline()\n",
    "    if not line:\n",
    "        break\n",
    "    print(line,end='')\n",
    "f.close()"
   ]
  },
  {
   "cell_type": "code",
   "execution_count": 46,
   "id": "eeaa5dd3",
   "metadata": {
    "collapsed": true
   },
   "outputs": [
    {
     "name": "stdout",
     "output_type": "stream",
     "text": [
      "1 번째줄\n",
      "2 번째줄\n",
      "3 번째줄\n",
      "4 번째줄\n",
      "5 번째줄\n",
      "6 번째줄\n",
      "7 번째줄\n",
      "8 번째줄\n",
      "9 번째줄\n",
      "11 번째 줄입니다\n",
      "12 번째 줄입니다\n",
      "13 번째 줄입니다\n",
      "14 번째 줄입니다\n",
      "15 번째 줄입니다\n",
      "16 번째 줄입니다\n",
      "17 번째 줄입니다\n",
      "18 번째 줄입니다\n",
      "19 번째 줄입니다\n",
      "20 번째 줄입니다\n"
     ]
    }
   ],
   "source": [
    "# 파일을 열어서('r' 읽기모드) 모든 라인을 읽어서 화면에 출력하기\n",
    "# for문 사용 - readlines() \n",
    "f = open('C:\\\\Users\\\\box15\\\\Myjupyter\\\\광운대 파이썬 기초\\\\새파일.txt','r')\n",
    "lines = f.readlines()\n",
    "for line in lines:    \n",
    "    print(line,end=\"\")\n",
    "f.close()"
   ]
  },
  {
   "cell_type": "code",
   "execution_count": 48,
   "id": "14a03c13",
   "metadata": {
    "collapsed": true
   },
   "outputs": [
    {
     "name": "stdout",
     "output_type": "stream",
     "text": [
      "<class 'str'>\n",
      "1 번째줄\n",
      "2 번째줄\n",
      "3 번째줄\n",
      "4 번째줄\n",
      "5 번째줄\n",
      "6 번째줄\n",
      "7 번째줄\n",
      "8 번째줄\n",
      "9 번째줄\n",
      "11 번째 줄입니다\n",
      "12 번째 줄입니다\n",
      "13 번째 줄입니다\n",
      "14 번째 줄입니다\n",
      "15 번째 줄입니다\n",
      "16 번째 줄입니다\n",
      "17 번째 줄입니다\n",
      "18 번째 줄입니다\n",
      "19 번째 줄입니다\n",
      "20 번째 줄입니다\n",
      "ab123456abcdefg\n",
      "BlockDMask\n",
      "python\n",
      "blog\n"
     ]
    }
   ],
   "source": [
    "# 파일을 열어서('r' 읽기모드) 모든 내용을 읽어서 화면에 출력하기\n",
    "f = open('C:\\\\Users\\\\box15\\\\Myjupyter\\\\광운대 파이썬 기초\\\\새파일.txt','r')\n",
    "data = f.read()\n",
    "print(type(data))\n",
    "print(data)\n",
    "f.close()"
   ]
  },
  {
   "cell_type": "code",
   "execution_count": 45,
   "id": "86d028c8",
   "metadata": {},
   "outputs": [],
   "source": [
    "#파일을 열어 파일에 내용 추가하기\n",
    "f = open('C:\\\\Users\\\\box15\\\\Myjupyter\\\\광운대 파이썬 기초\\\\새파일.txt','a')\n",
    "for i in range(11,21):\n",
    "    data = f'{i} 번째 줄입니다\\n'\n",
    "    f.write(data)\n",
    "f.close()"
   ]
  },
  {
   "cell_type": "code",
   "execution_count": 47,
   "id": "9abff54b",
   "metadata": {},
   "outputs": [],
   "source": [
    "# 파일을 열어 파일에 내용 추가하기\n",
    "# writelines() 함수\n",
    "\n",
    "f = open('C:\\\\Users\\\\box15\\\\Myjupyter\\\\광운대 파이썬 기초\\\\새파일.txt', 'a')\n",
    " \n",
    "# writelines 함수를 이용해서 파일에 문자열들 쓰기\n",
    "f.writelines(['a', 'b', '123', '456', 'abcdefg', '\\n'])\n",
    " \n",
    "# writelines 함수에 join 을 이용해서 문자열들에 자동 개행 넣기\n",
    "f.writelines('\\n'.join(['BlockDMask', 'python', 'blog']))\n",
    " \n",
    "# 파일 닫기\n",
    "f.close()"
   ]
  },
  {
   "cell_type": "code",
   "execution_count": 49,
   "id": "0266922b",
   "metadata": {},
   "outputs": [
    {
     "name": "stdout",
     "output_type": "stream",
     "text": [
      "[C:\\Users\\box15\\Myjupyter\\광운대 파이썬 기초\\새파일.txt] 파일이 삭제되었습니다\n"
     ]
    }
   ],
   "source": [
    "import os\n",
    "\n",
    "file = \"C:\\\\Users\\\\box15\\\\Myjupyter\\\\광운대 파이썬 기초\\\\새파일.txt\"\n",
    "# 삭제하기 전에 파일이 존재하는지 우선 확인한다.\n",
    "if os.path.isfile(file): \n",
    "    os.remove(file)\n",
    "    print(\"[%s] 파일이 삭제되었습니다\"%file)\n",
    "else:\n",
    "    print(\"파일을 찾을 수 없습니다. 경로를 확인하세요\")"
   ]
  },
  {
   "cell_type": "code",
   "execution_count": 50,
   "id": "b6411c6e",
   "metadata": {},
   "outputs": [
    {
     "name": "stdout",
     "output_type": "stream",
     "text": [
      " C 드라이브의 볼륨: Local Disk\n",
      " 볼륨 일련 번호: 8697-6595\n",
      "\n",
      " C:\\Users\\box15\\Myjupyter\\광운대 파이썬 기초 디렉터리\n",
      "\n",
      "2022-07-22  오후 02:23    <DIR>          .\n",
      "2022-07-22  오후 12:02    <DIR>          ..\n",
      "2022-07-22  오후 01:09    <DIR>          .ipynb_checkpoints\n",
      "2022-07-21  오후 03:57    <DIR>          __pycache__\n",
      "2022-07-18  오후 03:55             6,732 1.문법 쌩기초.ipynb\n",
      "2022-07-20  오후 01:51            10,453 2일차.ipynb\n",
      "2022-07-20  오후 03:47            16,008 3일차.ipynb\n",
      "2022-07-22  오후 01:29            38,906 4일차.ipynb\n",
      "2022-07-22  오후 02:22            24,311 5일차.ipynb\n",
      "2022-07-21  오후 03:53                33 add.py\n",
      "               6개 파일              96,443 바이트\n",
      "               4개 디렉터리  169,609,093,120 바이트 남음\n"
     ]
    }
   ],
   "source": [
    "%ls"
   ]
  },
  {
   "cell_type": "code",
   "execution_count": 52,
   "id": "e517fb69",
   "metadata": {},
   "outputs": [],
   "source": [
    "with open(\"C:\\\\Users\\\\box15\\\\Myjupyter\\\\광운대 파이썬 기초\\\\새파일.txt\",'w') as f:\n",
    "    f.write(\"with문 테스트 \")"
   ]
  },
  {
   "cell_type": "code",
   "execution_count": 53,
   "id": "ca3c6953",
   "metadata": {},
   "outputs": [
    {
     "name": "stdout",
     "output_type": "stream",
     "text": [
      "<class 'str'>\n",
      "with문 테스트 \n"
     ]
    }
   ],
   "source": [
    "f = open('C:\\\\Users\\\\box15\\\\Myjupyter\\\\광운대 파이썬 기초\\\\새파일.txt','r')\n",
    "data = f.read()\n",
    "print(type(data))\n",
    "print(data)\n",
    "f.close()"
   ]
  },
  {
   "cell_type": "code",
   "execution_count": 54,
   "id": "a6c6b944",
   "metadata": {},
   "outputs": [
    {
     "name": "stdout",
     "output_type": "stream",
     "text": [
      "[C:\\Users\\box15\\Myjupyter\\광운대 파이썬 기초\\새파일.txt] 파일이 삭제되었습니다\n"
     ]
    }
   ],
   "source": [
    "import os\n",
    "\n",
    "file = \"C:\\\\Users\\\\box15\\\\Myjupyter\\\\광운대 파이썬 기초\\\\새파일.txt\"\n",
    "# 삭제하기 전에 파일이 존재하는지 우선 확인한다.\n",
    "if os.path.isfile(file): \n",
    "    os.remove(file)\n",
    "    print(\"[%s] 파일이 삭제되었습니다\"%file)\n",
    "else:\n",
    "    print(\"파일을 찾을 수 없습니다. 경로를 확인하세요\")"
   ]
  },
  {
   "cell_type": "code",
   "execution_count": null,
   "id": "0337aefc",
   "metadata": {},
   "outputs": [],
   "source": []
  }
 ],
 "metadata": {
  "kernelspec": {
   "display_name": "Python 3 (ipykernel)",
   "language": "python",
   "name": "python3"
  },
  "language_info": {
   "codemirror_mode": {
    "name": "ipython",
    "version": 3
   },
   "file_extension": ".py",
   "mimetype": "text/x-python",
   "name": "python",
   "nbconvert_exporter": "python",
   "pygments_lexer": "ipython3",
   "version": "3.9.12"
  }
 },
 "nbformat": 4,
 "nbformat_minor": 5
}
